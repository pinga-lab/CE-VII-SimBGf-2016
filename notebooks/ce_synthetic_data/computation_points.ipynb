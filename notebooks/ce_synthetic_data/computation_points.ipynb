{
 "cells": [
  {
   "cell_type": "markdown",
   "metadata": {},
   "source": [
    "# Computation points"
   ]
  },
  {
   "cell_type": "markdown",
   "metadata": {},
   "source": [
    "### Brief description"
   ]
  },
  {
   "cell_type": "markdown",
   "metadata": {},
   "source": [
    "This Jupyter notebook is a supplementary material contaning the code needed to generate part of the synthetic data and reproduce part of the figures and results of this course. This code uses the open-source Python toolkit for geophysical modeling and inversion [Fatiando a Terra](http://www.fatiando.org/index.html).\n",
    "\n",
    "This code creates the horizontal coordinates of the synthetic data that are used in the numerical applications."
   ]
  },
  {
   "cell_type": "markdown",
   "metadata": {},
   "source": [
    "**Note:** A Jupyter notebook is a document that incorporates text, results, figures, and the Python source code to produce them. If you are viewing this from the URL https://nbviewer.jupyter.org/, the document will be static (not executable). To run the code, you will need to download the notebook and install all the required dependencies. For installing the Fatiando a Terra and all the required dependencies, please follow the instructions shown in http://www.fatiando.org/install.html."
   ]
  },
  {
   "cell_type": "markdown",
   "metadata": {},
   "source": [
    "### Import the required dependencies"
   ]
  },
  {
   "cell_type": "code",
   "execution_count": 1,
   "metadata": {
    "collapsed": true
   },
   "outputs": [],
   "source": [
    "%matplotlib inline\n",
    "\n",
    "import numpy as np\n",
    "import matplotlib.pyplot as plt\n",
    "import cPickle as pickle\n",
    "import datetime\n",
    "from IPython.display import Markdown as md\n",
    "from IPython.display import display as dp\n",
    "import string as st\n",
    "\n",
    "from __future__ import division\n",
    "\n",
    "import auxiliary_functions as af\n",
    "\n",
    "import fatiando\n",
    "from fatiando import gridder\n",
    "from fatiando.mesher import Prism\n",
    "from fatiando.gridder import regular\n",
    "from fatiando.gravmag import prism\n",
    "from fatiando.vis import myv\n",
    "from fatiando.utils import ang2vec, contaminate\n",
    "from fatiando.constants import G"
   ]
  },
  {
   "cell_type": "code",
   "execution_count": 2,
   "metadata": {
    "collapsed": false
   },
   "outputs": [],
   "source": [
    "plt.rcParams['font.size'] = 6\n",
    "plt.rcParams['axes.labelsize'] = 8\n",
    "plt.rcParams['xtick.labelsize'] = 6\n",
    "plt.rcParams['ytick.labelsize'] = 6\n",
    "plt.rcParams['legend.fontsize'] = 6\n",
    "plt.rcParams['xtick.major.pad'] = 3\n",
    "plt.rcParams['ytick.major.pad'] = 3"
   ]
  },
  {
   "cell_type": "code",
   "execution_count": 3,
   "metadata": {
    "collapsed": true
   },
   "outputs": [],
   "source": [
    "notebook_name = 'computation_points.ipynb'"
   ]
  },
  {
   "cell_type": "code",
   "execution_count": 4,
   "metadata": {
    "collapsed": false
   },
   "outputs": [
    {
     "name": "stdout",
     "output_type": "stream",
     "text": [
      "Version of Fatiando a Terra used: unknown\n"
     ]
    }
   ],
   "source": [
    "print(\"Version of Fatiando a Terra used: {}\".format(fatiando.__version__))"
   ]
  },
  {
   "cell_type": "code",
   "execution_count": 5,
   "metadata": {
    "collapsed": true
   },
   "outputs": [],
   "source": [
    "saved_files = [] #list of saved files"
   ]
  },
  {
   "cell_type": "markdown",
   "metadata": {},
   "source": [
    "### Load the synthetic model formed by two rectangular prisms"
   ]
  },
  {
   "cell_type": "code",
   "execution_count": 6,
   "metadata": {
    "collapsed": false
   },
   "outputs": [],
   "source": [
    "with open('results\\\\model.pickle') as f:\n",
    "        full_model = pickle.load(f)"
   ]
  },
  {
   "cell_type": "markdown",
   "metadata": {},
   "source": [
    "### 2D grid of points"
   ]
  },
  {
   "cell_type": "markdown",
   "metadata": {
    "collapsed": true
   },
   "source": [
    "#### Regular grid"
   ]
  },
  {
   "cell_type": "code",
   "execution_count": 7,
   "metadata": {
    "collapsed": true
   },
   "outputs": [],
   "source": [
    "regular_grid = dict() #empty dictionary"
   ]
  },
  {
   "cell_type": "code",
   "execution_count": 8,
   "metadata": {
    "collapsed": true
   },
   "outputs": [],
   "source": [
    "#area over which the data are calculated\n",
    "#x minimum, x maximum, y minimum and y maximum\n",
    "regular_grid['area'] = [0, 30000, 5000, 35000]\n",
    "\n",
    "#number of data along the x and y directions\n",
    "regular_grid['shape'] = (180,180)\n",
    "\n",
    "#total number of data\n",
    "regular_grid['N'] = regular_grid['shape'][0]*regular_grid['shape'][1]\n",
    "\n",
    "#grid spacing along the y and x directions\n",
    "regular_grid['spacing'] = gridder.spacing(regular_grid['area'], regular_grid['shape'])\n",
    "\n",
    "#element of area used in the numerical integration\n",
    "regular_grid['DS'] = regular_grid['spacing'][0]*regular_grid['spacing'][1]"
   ]
  },
  {
   "cell_type": "code",
   "execution_count": 9,
   "metadata": {
    "collapsed": true
   },
   "outputs": [],
   "source": [
    "#auxiliary informations about the grid\n",
    "now = datetime.datetime.utcnow().strftime('%d %B %Y %H:%M:%S UTC')\n",
    "regular_grid['metadata'] = 'Generated by {name} on {date}'.format(date=now, name=notebook_name)"
   ]
  },
  {
   "cell_type": "code",
   "execution_count": 10,
   "metadata": {
    "collapsed": false
   },
   "outputs": [],
   "source": [
    "#save the grid model by using the Python pickle module (https://docs.python.org/2/library/pickle.html)\n",
    "file_name = 'results\\\\regular_grid.pickle'\n",
    "with open(file_name, 'w') as f:\n",
    "    pickle.dump(regular_grid, f)\n",
    "saved_files.append(file_name)"
   ]
  },
  {
   "cell_type": "code",
   "execution_count": 11,
   "metadata": {
    "collapsed": false
   },
   "outputs": [
    {
     "name": "stdout",
     "output_type": "stream",
     "text": [
      "area : [0, 30000, 5000, 35000]\n",
      "spacing : [167.5977653631285, 167.5977653631285]\n",
      "N : 32400\n",
      "shape : (180, 180)\n",
      "DS : 28089.0109547\n",
      "metadata : Generated by computation_points.ipynb on 19 October 2016 19:27:10 UTC\n"
     ]
    }
   ],
   "source": [
    "for r in regular_grid:\n",
    "    print r, ':', regular_grid[r]"
   ]
  },
  {
   "cell_type": "code",
   "execution_count": 12,
   "metadata": {
    "collapsed": true
   },
   "outputs": [],
   "source": [
    "#coordinates x and y of the data\n",
    "xr, yr = regular(regular_grid['area'], regular_grid['shape'])"
   ]
  },
  {
   "cell_type": "code",
   "execution_count": 14,
   "metadata": {
    "collapsed": false
   },
   "outputs": [
    {
     "data": {
      "image/png": "[encoded data removed]",
      "text/plain": [
       "<matplotlib.figure.Figure at 0xae49470>"
      ]
     },
     "metadata": {},
     "output_type": "display_data"
    }
   ],
   "source": [
    "af.plotmap(xr, yr, None, regular_grid['shape'], regular_grid['area'], \n",
    "           color_scheme = None, unit = 'm', \n",
    "           prism_projection = True, projection_style = '-k', \n",
    "           model = full_model['projection'],\n",
    "           observations=True, point_style='.k', point_size=1)"
   ]
  },
  {
   "cell_type": "code",
   "execution_count": 15,
   "metadata": {
    "collapsed": false
   },
   "outputs": [],
   "source": [
    "caption = \"Regular grid of $%d \\\\times %d$ points on which we calculate the synthetic data to \\\n",
    "be used in the validation tests. Note that this grid is very dense.\" \\\n",
    "% (regular_grid['shape'][0], regular_grid['shape'][1])"
   ]
  },
  {
   "cell_type": "code",
   "execution_count": 16,
   "metadata": {
    "collapsed": false
   },
   "outputs": [
    {
     "data": {
      "text/markdown": [
       "Regular grid of $180 \\times 180$ points on which we calculate the synthetic data to be used in the validation tests. Note that this grid is very dense."
      ],
      "text/plain": [
       "<IPython.core.display.Markdown object>"
      ]
     },
     "metadata": {},
     "output_type": "display_data"
    }
   ],
   "source": [
    "dp(md(caption))"
   ]
  },
  {
   "cell_type": "markdown",
   "metadata": {},
   "source": [
    "#### Airborn survey"
   ]
  },
  {
   "cell_type": "code",
   "execution_count": 17,
   "metadata": {
    "collapsed": true
   },
   "outputs": [],
   "source": [
    "airborne_survey = dict() #empty dictionary"
   ]
  },
  {
   "cell_type": "code",
   "execution_count": 18,
   "metadata": {
    "collapsed": true
   },
   "outputs": [],
   "source": [
    "#area over which the data are calculated\n",
    "#x minimum, x maximum, y minimum and y maximum\n",
    "airborne_survey['area'] = [0, 30000, 5000, 35000]\n",
    "\n",
    "#number of data along the x and y directions\n",
    "airborne_survey['shape'] = (120,30)\n",
    "\n",
    "#total number of data\n",
    "airborne_survey['N'] = airborne_survey['shape'][0]*airborne_survey['shape'][1]\n",
    "\n",
    "#grid spacing along the y and x directions\n",
    "airborne_survey['spacing'] = gridder.spacing(airborne_survey['area'], airborne_survey['shape'])\n",
    "\n",
    "#element of area used in the numerical integration\n",
    "airborne_survey['DS'] = airborne_survey['spacing'][0]*airborne_survey['spacing'][1]"
   ]
  },
  {
   "cell_type": "code",
   "execution_count": 19,
   "metadata": {
    "collapsed": true
   },
   "outputs": [],
   "source": [
    "#auxiliary informations about the grid\n",
    "now = datetime.datetime.utcnow().strftime('%d %B %Y %H:%M:%S UTC')\n",
    "airborne_survey['metadata'] = 'Generated by {name} on {date}'.format(date=now, name=notebook_name)"
   ]
  },
  {
   "cell_type": "code",
   "execution_count": 20,
   "metadata": {
    "collapsed": false
   },
   "outputs": [],
   "source": [
    "#save the grid model by using the Python pickle module (https://docs.python.org/2/library/pickle.html)\n",
    "file_name = 'results\\\\airborne_survey.pickle'\n",
    "with open(file_name, 'w') as f:\n",
    "    pickle.dump(airborne_survey, f)\n",
    "saved_files.append(file_name)"
   ]
  },
  {
   "cell_type": "code",
   "execution_count": 21,
   "metadata": {
    "collapsed": false
   },
   "outputs": [
    {
     "name": "stdout",
     "output_type": "stream",
     "text": [
      "area : [0, 30000, 5000, 35000]\n",
      "spacing : [252.10084033613447, 1034.4827586206898]\n",
      "N : 3600\n",
      "shape : (120, 30)\n",
      "DS : 260793.972762\n",
      "metadata : Generated by computation_points.ipynb on 19 October 2016 19:29:19 UTC\n"
     ]
    }
   ],
   "source": [
    "for r in airborne_survey:\n",
    "    print r, ':', airborne_survey[r]"
   ]
  },
  {
   "cell_type": "code",
   "execution_count": 22,
   "metadata": {
    "collapsed": true
   },
   "outputs": [],
   "source": [
    "#coordinates x and y of the data\n",
    "xa, ya = regular(airborne_survey['area'], airborne_survey['shape'])"
   ]
  },
  {
   "cell_type": "code",
   "execution_count": 24,
   "metadata": {
    "collapsed": false
   },
   "outputs": [
    {
     "data": {
      "image/png": "[encoded data removed]",
      "text/plain": [
       "<matplotlib.figure.Figure at 0xad37780>"
      ]
     },
     "metadata": {},
     "output_type": "display_data"
    }
   ],
   "source": [
    "af.plotmap(xa, ya, None, airborne_survey['shape'], airborne_survey['area'], \n",
    "           color_scheme = 'Greys_r', unit = 'm', \n",
    "           prism_projection = True, projection_style = '-k', \n",
    "           model = full_model['projection'],\n",
    "           observations=True, point_style='.k', point_size=1)"
   ]
  },
  {
   "cell_type": "code",
   "execution_count": 25,
   "metadata": {
    "collapsed": false
   },
   "outputs": [],
   "source": [
    "caption = \"Regular grid of $%d \\\\times %d$ points on which we calculate the synthetic \\\n",
    "data to be used in the numerical tests. This grid simulates an airborne survey.\" \\\n",
    "% (airborne_survey['shape'][0], airborne_survey['shape'][1])"
   ]
  },
  {
   "cell_type": "code",
   "execution_count": 26,
   "metadata": {
    "collapsed": false
   },
   "outputs": [
    {
     "data": {
      "text/markdown": [
       "Regular grid of $120 \\times 30$ points on which we calculate the synthetic data to be used in the numerical tests. This grid simulates an airborne survey."
      ],
      "text/plain": [
       "<IPython.core.display.Markdown object>"
      ]
     },
     "metadata": {},
     "output_type": "display_data"
    }
   ],
   "source": [
    "dp(md(caption))"
   ]
  },
  {
   "cell_type": "markdown",
   "metadata": {},
   "source": [
    "#### Interpolating points"
   ]
  },
  {
   "cell_type": "code",
   "execution_count": 27,
   "metadata": {
    "collapsed": true
   },
   "outputs": [],
   "source": [
    "interpolating = dict() #empty dictionary"
   ]
  },
  {
   "cell_type": "code",
   "execution_count": 28,
   "metadata": {
    "collapsed": true
   },
   "outputs": [],
   "source": [
    "#area over which the data are calculated\n",
    "#x minimum, x maximum, y minimum and y maximum\n",
    "interpolating['area'] = [0, 30000, \n",
    "                         5000 + 0.5*airborne_survey['spacing'][1], \n",
    "                         35000 - 0.5*airborne_survey['spacing'][1]]\n",
    "\n",
    "#number of data along the x and y directions\n",
    "interpolating['shape'] = (airborne_survey['shape'][0],\n",
    "                          airborne_survey['shape'][1] - 1)\n",
    "\n",
    "#total number of data\n",
    "interpolating['N'] = interpolating['shape'][0]*airborne_survey['shape'][1]\n",
    "\n",
    "#grid spacing along the y and x directions\n",
    "interpolating['spacing'] = gridder.spacing(interpolating['area'], interpolating['shape'])\n",
    "\n",
    "#element of area used in the numerical integration\n",
    "interpolating['DS'] = interpolating['spacing'][0]*interpolating['spacing'][1]"
   ]
  },
  {
   "cell_type": "code",
   "execution_count": 29,
   "metadata": {
    "collapsed": true
   },
   "outputs": [],
   "source": [
    "#auxiliary informations about the grid\n",
    "now = datetime.datetime.utcnow().strftime('%d %B %Y %H:%M:%S UTC')\n",
    "interpolating['metadata'] = 'Generated by {name} on {date}'.format(date=now, name=notebook_name)"
   ]
  },
  {
   "cell_type": "code",
   "execution_count": 30,
   "metadata": {
    "collapsed": true
   },
   "outputs": [],
   "source": [
    "#save the grid model by using the Python pickle module (https://docs.python.org/2/library/pickle.html)\n",
    "file_name = 'results\\\\interpolating.pickle'\n",
    "with open(file_name, 'w') as f:\n",
    "    pickle.dump(interpolating, f)\n",
    "saved_files.append(file_name)"
   ]
  },
  {
   "cell_type": "code",
   "execution_count": 31,
   "metadata": {
    "collapsed": false
   },
   "outputs": [
    {
     "name": "stdout",
     "output_type": "stream",
     "text": [
      "area : [0, 30000, 5517.241379310345, 34482.75862068965]\n",
      "spacing : [252.10084033613447, 1034.4827586206895]\n",
      "N : 3600\n",
      "shape : (120, 29)\n",
      "DS : 260793.972762\n",
      "metadata : Generated by computation_points.ipynb on 19 October 2016 19:29:28 UTC\n"
     ]
    }
   ],
   "source": [
    "for r in interpolating:\n",
    "    print r, ':', interpolating[r]"
   ]
  },
  {
   "cell_type": "code",
   "execution_count": 32,
   "metadata": {
    "collapsed": true
   },
   "outputs": [],
   "source": [
    "#coordinates x and y of the data\n",
    "xi, yi = regular(interpolating['area'], interpolating['shape'])"
   ]
  },
  {
   "cell_type": "code",
   "execution_count": 34,
   "metadata": {
    "collapsed": false
   },
   "outputs": [
    {
     "data": {
      "image/png": "[encoded data removed]",
      "text/plain": [
       "<matplotlib.figure.Figure at 0x16e5e358>"
      ]
     },
     "metadata": {},
     "output_type": "display_data"
    }
   ],
   "source": [
    "af.plotmap(xi, yi, None, interpolating['shape'], interpolating['area'], \n",
    "           color_scheme = 'Greys_r', unit = 'm', \n",
    "           prism_projection = True, projection_style = '-k', \n",
    "           model = full_model['projection'],\n",
    "           observations=True, point_style='.r', point_size=1)"
   ]
  },
  {
   "cell_type": "code",
   "execution_count": 35,
   "metadata": {
    "collapsed": true
   },
   "outputs": [],
   "source": [
    "caption = \"Regular grid of $%d \\\\times %d$ points used in the interpolation test.\" \\\n",
    "% (interpolating['shape'][0], interpolating['shape'][1])"
   ]
  },
  {
   "cell_type": "code",
   "execution_count": 36,
   "metadata": {
    "collapsed": false
   },
   "outputs": [
    {
     "data": {
      "text/markdown": [
       "Regular grid of $120 \\times 29$ points used in the interpolation test."
      ],
      "text/plain": [
       "<IPython.core.display.Markdown object>"
      ]
     },
     "metadata": {},
     "output_type": "display_data"
    }
   ],
   "source": [
    "dp(md(caption))"
   ]
  },
  {
   "cell_type": "markdown",
   "metadata": {
    "collapsed": true
   },
   "source": [
    "#### Coarse grid"
   ]
  },
  {
   "cell_type": "code",
   "execution_count": 37,
   "metadata": {
    "collapsed": true
   },
   "outputs": [],
   "source": [
    "coarse_grid = dict() #empty dictionary"
   ]
  },
  {
   "cell_type": "code",
   "execution_count": 38,
   "metadata": {
    "collapsed": true
   },
   "outputs": [],
   "source": [
    "#area over which the data are calculated\n",
    "#x minimum, x maximum, y minimum and y maximum\n",
    "coarse_grid['area'] = [0, 30000, 5000, 35000]\n",
    "\n",
    "#number of data along the x and y directions\n",
    "coarse_grid['shape'] = (90,90)\n",
    "\n",
    "#total number of data\n",
    "coarse_grid['N'] = coarse_grid['shape'][0]*coarse_grid['shape'][1]\n",
    "\n",
    "#grid spacing along the y and x directions\n",
    "coarse_grid['spacing'] = gridder.spacing(coarse_grid['area'], coarse_grid['shape'])\n",
    "\n",
    "#element of area used in the numerical integration\n",
    "coarse_grid['DS'] = coarse_grid['spacing'][0]*coarse_grid['spacing'][1]"
   ]
  },
  {
   "cell_type": "code",
   "execution_count": 39,
   "metadata": {
    "collapsed": true
   },
   "outputs": [],
   "source": [
    "#auxiliary informations about the grid\n",
    "now = datetime.datetime.utcnow().strftime('%d %B %Y %H:%M:%S UTC')\n",
    "coarse_grid['metadata'] = 'Generated by {name} on {date}'.format(date=now, name=notebook_name)"
   ]
  },
  {
   "cell_type": "code",
   "execution_count": 40,
   "metadata": {
    "collapsed": true
   },
   "outputs": [],
   "source": [
    "#save the grid model by using the Python pickle module (https://docs.python.org/2/library/pickle.html)\n",
    "file_name = 'results\\\\coarse_grid.pickle'\n",
    "with open(file_name, 'w') as f:\n",
    "    pickle.dump(coarse_grid, f)\n",
    "saved_files.append(file_name)"
   ]
  },
  {
   "cell_type": "code",
   "execution_count": 41,
   "metadata": {
    "collapsed": false
   },
   "outputs": [
    {
     "name": "stdout",
     "output_type": "stream",
     "text": [
      "area : [0, 30000, 5000, 35000]\n",
      "spacing : [337.07865168539325, 337.07865168539325]\n",
      "N : 8100\n",
      "shape : (90, 90)\n",
      "DS : 113622.017422\n",
      "metadata : Generated by computation_points.ipynb on 19 October 2016 19:29:39 UTC\n"
     ]
    }
   ],
   "source": [
    "for r in coarse_grid:\n",
    "    print r, ':', coarse_grid[r]"
   ]
  },
  {
   "cell_type": "code",
   "execution_count": 42,
   "metadata": {
    "collapsed": true
   },
   "outputs": [],
   "source": [
    "#coordinates x and y of the data\n",
    "xc, yc = regular(coarse_grid['area'], coarse_grid['shape'])"
   ]
  },
  {
   "cell_type": "code",
   "execution_count": 44,
   "metadata": {
    "collapsed": false
   },
   "outputs": [
    {
     "data": {
      "image/png": "[encoded data removed]",
      "text/plain": [
       "<matplotlib.figure.Figure at 0x16fcb8d0>"
      ]
     },
     "metadata": {},
     "output_type": "display_data"
    }
   ],
   "source": [
    "af.plotmap(xc, yc, None, coarse_grid['shape'], coarse_grid['area'], \n",
    "           color_scheme = None, unit = 'm', \n",
    "           prism_projection = True, projection_style = '-k', \n",
    "           model = full_model['projection'],\n",
    "           observations=True, point_style='.k', point_size=1)"
   ]
  },
  {
   "cell_type": "code",
   "execution_count": 45,
   "metadata": {
    "collapsed": false
   },
   "outputs": [],
   "source": [
    "caption = \"Coarse grid of $%d \\\\times %d$ points on which we calculate the synthetic data to be used in the numerical tests.\" \\\n",
    "% (coarse_grid['shape'][0], coarse_grid['shape'][1])"
   ]
  },
  {
   "cell_type": "code",
   "execution_count": 46,
   "metadata": {
    "collapsed": false
   },
   "outputs": [
    {
     "data": {
      "text/markdown": [
       "Coarse grid of $90 \\times 90$ points on which we calculate the synthetic data to be used in the numerical tests."
      ],
      "text/plain": [
       "<IPython.core.display.Markdown object>"
      ]
     },
     "metadata": {},
     "output_type": "display_data"
    }
   ],
   "source": [
    "dp(md(caption))"
   ]
  },
  {
   "cell_type": "markdown",
   "metadata": {
    "collapsed": true
   },
   "source": [
    "### Saved files"
   ]
  },
  {
   "cell_type": "code",
   "execution_count": 47,
   "metadata": {
    "collapsed": false
   },
   "outputs": [
    {
     "name": "stdout",
     "output_type": "stream",
     "text": [
      "1  results\\regular_grid.pickle\n",
      "2  results\\airborne_survey.pickle\n",
      "3  results\\interpolating.pickle\n",
      "4  results\\coarse_grid.pickle\n"
     ]
    }
   ],
   "source": [
    "with open('reports\\\\report_%s.md' % notebook_name[:st.index(notebook_name,'.')], 'w') as f:\n",
    "    f.write('# Saved files \\n')\n",
    "    now = datetime.datetime.utcnow().strftime('%d %B %Y %H:%M:%S UTC')\n",
    "    header = 'Generated by {name} on {date}'.format(date=now, name=notebook_name)\n",
    "    f.write('\\n\\n'+header+'\\n\\n')\n",
    "    for i, sf in enumerate(saved_files):\n",
    "        print '%d  %s' % (i+1,sf)\n",
    "        f.write('*  `%s` \\n' % (sf))"
   ]
  },
  {
   "cell_type": "code",
   "execution_count": null,
   "metadata": {
    "collapsed": true
   },
   "outputs": [],
   "source": []
  }
 ],
 "metadata": {
  "kernelspec": {
   "display_name": "Python [default]",
   "language": "python",
   "name": "python2"
  },
  "language_info": {
   "codemirror_mode": {
    "name": "ipython",
    "version": 2
   },
   "file_extension": ".py",
   "mimetype": "text/x-python",
   "name": "python",
   "nbconvert_exporter": "python",
   "pygments_lexer": "ipython2",
   "version": "2.7.10"
  }
 },
 "nbformat": 4,
 "nbformat_minor": 0
}
