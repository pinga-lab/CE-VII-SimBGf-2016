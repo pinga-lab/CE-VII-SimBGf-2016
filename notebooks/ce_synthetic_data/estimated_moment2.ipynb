{
 "cells": [
  {
   "cell_type": "markdown",
   "metadata": {},
   "source": [
    "# Estimated magnetic moment distribution"
   ]
  },
  {
   "cell_type": "markdown",
   "metadata": {},
   "source": [
    "### Brief description"
   ]
  },
  {
   "cell_type": "markdown",
   "metadata": {},
   "source": [
    "This Jupyter notebook is a supplementary material contaning the code needed to generate part of the synthetic data and reproduce part of the figures and results of this course. This code uses the open-source Python toolkit for geophysical modeling and inversion [Fatiando a Terra](http://www.fatiando.org/index.html).\n",
    "\n",
    "This code estimates the estimated magnetic moment distribution within a planar equivalent layer by solving a linear inverse problem. In this test, the equivalent sources do not have the same magnetization direction as the simulated prisms. The estimated equivalent layer is saved as a pickle file in `results`."
   ]
  },
  {
   "cell_type": "markdown",
   "metadata": {},
   "source": [
    "**Note:** A Jupyter notebook is a document that incorporates text, results, figures, and the Python source code to produce them. If you are viewing this from the URL https://nbviewer.jupyter.org/, the document will be static (not executable). To run the code, you will need to download the notebook and install all the required dependencies. For installing the Fatiando a Terra and all the required dependencies, please follow the instructions shown in http://www.fatiando.org/install.html."
   ]
  },
  {
   "cell_type": "markdown",
   "metadata": {},
   "source": [
    "### Import the required dependencies"
   ]
  },
  {
   "cell_type": "code",
   "execution_count": 1,
   "metadata": {
    "collapsed": true
   },
   "outputs": [],
   "source": [
    "%matplotlib inline\n",
    "import numpy as np\n",
    "from matplotlib import pyplot as plt\n",
    "import cPickle as pickle\n",
    "import datetime\n",
    "from IPython.display import Markdown as md\n",
    "from IPython.display import display as dp\n",
    "import string as st\n",
    "\n",
    "from __future__ import division\n",
    "from future.builtins import super\n",
    "\n",
    "import auxiliary_functions as af\n",
    "\n",
    "from fatiando import gridder\n",
    "from fatiando.mesher import Prism, PointGrid\n",
    "from fatiando.gridder import regular\n",
    "\n",
    "#from fatiando.gravmag import prism, sphere\n",
    "from fatiando.gravmag import _prism_numpy as prism\n",
    "from fatiando.gravmag import _sphere_numpy as sphere\n",
    "\n",
    "#from fatiando.gravmag.eqlayer import EQLTotalField\n",
    "from fatiando.gravmag._eqlayer_numpy import EQLTotalField\n",
    "\n",
    "from fatiando.inversion.regularization import Damping, Smoothness2D\n",
    "from fatiando.inversion.hyper_param import LCurve\n",
    "from fatiando.vis import mpl, myv\n",
    "from fatiando.utils import ang2vec, vec2ang\n",
    "from fatiando.constants import G, SI2MGAL"
   ]
  },
  {
   "cell_type": "code",
   "execution_count": 2,
   "metadata": {
    "collapsed": false
   },
   "outputs": [],
   "source": [
    "plt.rcParams['font.size'] = 6\n",
    "plt.rcParams['axes.labelsize'] = 8\n",
    "plt.rcParams['xtick.labelsize'] = 6\n",
    "plt.rcParams['ytick.labelsize'] = 6\n",
    "plt.rcParams['legend.fontsize'] = 6\n",
    "plt.rcParams['xtick.major.pad'] = 3\n",
    "plt.rcParams['ytick.major.pad'] = 3"
   ]
  },
  {
   "cell_type": "code",
   "execution_count": 3,
   "metadata": {
    "collapsed": true
   },
   "outputs": [],
   "source": [
    "notebook_name = 'estimated_moment2.ipynb'"
   ]
  },
  {
   "cell_type": "code",
   "execution_count": 4,
   "metadata": {
    "collapsed": true
   },
   "outputs": [],
   "source": [
    "saved_files = [] #list of saved files"
   ]
  },
  {
   "cell_type": "markdown",
   "metadata": {},
   "source": [
    "### Load the synthetic model formed by two rectangular prisms"
   ]
  },
  {
   "cell_type": "code",
   "execution_count": 5,
   "metadata": {
    "collapsed": false
   },
   "outputs": [],
   "source": [
    "with open('results\\\\model.pickle') as f:\n",
    "        full_model = pickle.load(f)"
   ]
  },
  {
   "cell_type": "code",
   "execution_count": 6,
   "metadata": {
    "collapsed": true
   },
   "outputs": [],
   "source": [
    "inc, dec = full_model['geomag_field']"
   ]
  },
  {
   "cell_type": "code",
   "execution_count": 7,
   "metadata": {
    "collapsed": true
   },
   "outputs": [],
   "source": [
    "with open('results\\\\model_pole.pickle') as f:\n",
    "        full_model_pole = pickle.load(f)"
   ]
  },
  {
   "cell_type": "markdown",
   "metadata": {
    "collapsed": false
   },
   "source": [
    "### Load the grid of points"
   ]
  },
  {
   "cell_type": "code",
   "execution_count": 8,
   "metadata": {
    "collapsed": true
   },
   "outputs": [],
   "source": [
    "with open('results\\\\coarse_grid.pickle') as f:\n",
    "        coarse_grid = pickle.load(f)"
   ]
  },
  {
   "cell_type": "code",
   "execution_count": 9,
   "metadata": {
    "collapsed": false
   },
   "outputs": [
    {
     "data": {
      "text/plain": [
       "{'DS': 113622.01742204267,\n",
       " 'N': 8100,\n",
       " 'area': [0, 30000, 5000, 35000],\n",
       " 'metadata': 'Generated by computation_points.ipynb on 24 October 2016 01:15:22 UTC',\n",
       " 'shape': (90, 90),\n",
       " 'spacing': [337.07865168539325, 337.07865168539325]}"
      ]
     },
     "execution_count": 9,
     "metadata": {},
     "output_type": "execute_result"
    }
   ],
   "source": [
    "coarse_grid"
   ]
  },
  {
   "cell_type": "markdown",
   "metadata": {},
   "source": [
    "### Define the coordinates on the observation surface"
   ]
  },
  {
   "cell_type": "code",
   "execution_count": 10,
   "metadata": {
    "collapsed": false
   },
   "outputs": [],
   "source": [
    "#coordinates x and y of the data\n",
    "xp, yp = regular(coarse_grid['area'], coarse_grid['shape'])\n",
    "\n",
    "#vertical coordinates of the data\n",
    "zp = af.observation_surface(xp,yp)"
   ]
  },
  {
   "cell_type": "markdown",
   "metadata": {},
   "source": [
    "### Observed total-field anomaly"
   ]
  },
  {
   "cell_type": "markdown",
   "metadata": {},
   "source": [
    "Noise-free total-field anomaly (equation 8) produced by the synthetic prisms (Figure `figures/synthetic-bodies.png`) at the `coarse_grid` points on the undulating surface (Figure `figures/obsur.png`)."
   ]
  },
  {
   "cell_type": "code",
   "execution_count": 11,
   "metadata": {
    "collapsed": false
   },
   "outputs": [],
   "source": [
    "tf = prism.tf(xp,yp,zp,full_model['model'], inc, dec)"
   ]
  },
  {
   "cell_type": "markdown",
   "metadata": {},
   "source": [
    "### True RTP anomaly"
   ]
  },
  {
   "cell_type": "markdown",
   "metadata": {},
   "source": [
    "Noise-free RTP anomaly (equation 9) produced by the synthetic prisms (Figure `figures/synthetic-bodies.png`) at the `coarse_grid` points on the undulating surface (Figure `figures/obsur.png`)."
   ]
  },
  {
   "cell_type": "code",
   "execution_count": 12,
   "metadata": {
    "collapsed": true
   },
   "outputs": [],
   "source": [
    "tf_pole = prism.tf(xp,yp,zp,full_model_pole['model'], 90., 0.)"
   ]
  },
  {
   "cell_type": "markdown",
   "metadata": {},
   "source": [
    "### Total-field anomaly at the continuation plane"
   ]
  },
  {
   "cell_type": "markdown",
   "metadata": {},
   "source": [
    "Noise-free total-field anomaly (equation 8) produced by the synthetic prisms (Figure `figures/synthetic-bodies.png`) at the `coarse_grid` points on the constant plane at $1400$ m."
   ]
  },
  {
   "cell_type": "code",
   "execution_count": 13,
   "metadata": {
    "collapsed": true
   },
   "outputs": [],
   "source": [
    "z_cont = np.zeros_like(zp) - 1400."
   ]
  },
  {
   "cell_type": "code",
   "execution_count": 14,
   "metadata": {
    "collapsed": true
   },
   "outputs": [],
   "source": [
    "tf_cont = prism.tf(xp,yp,z_cont,full_model['model'],\n",
    "                   inc=full_model['geomag_field'][0],\n",
    "                   dec=full_model['geomag_field'][1])"
   ]
  },
  {
   "cell_type": "code",
   "execution_count": 15,
   "metadata": {
    "collapsed": false
   },
   "outputs": [],
   "source": [
    "#Save the total-field anomaly in a txt file\n",
    "now = datetime.datetime.utcnow().strftime('%d %B %Y %H:%M:%S UTC')\n",
    "header = \"\"\"# Generated by {name} on {date}\n",
    "# True total-field anomaly (noise-free) calculated with equation 9 at a regular grid on the\n",
    "# horizontal plane at -1400 m\n",
    "# shape (nx, ny): {shape}\n",
    "# area [x1, x2, y1, y2]: {area}\n",
    "# x (m)    y (m)    z (m)    total-field anomaly (nT)\n",
    "\"\"\".format(name=notebook_name, date=now, shape=coarse_grid['shape'], area=coarse_grid['area'])\n",
    "file_name = 'results\\\\tf_cont_cgrid.txt'\n",
    "with open(file_name, 'w') as f:\n",
    "    f.write(header)\n",
    "    np.savetxt(f, zip(xp, yp, z_cont, tf_cont), fmt='%.5f')\n",
    "saved_files.append(file_name)"
   ]
  },
  {
   "cell_type": "markdown",
   "metadata": {},
   "source": [
    "### Planar equivalent layer"
   ]
  },
  {
   "cell_type": "markdown",
   "metadata": {},
   "source": [
    "#### Parameters defining the equivalent layer"
   ]
  },
  {
   "cell_type": "code",
   "execution_count": 16,
   "metadata": {
    "collapsed": false
   },
   "outputs": [],
   "source": [
    "#horizontal plane containing the equivalent sources\n",
    "z0 = np.zeros_like(zp)\n",
    "#h = np.max(zp) + 1.4*dx\n",
    "h = -200.\n",
    "z0 += h"
   ]
  },
  {
   "cell_type": "code",
   "execution_count": 17,
   "metadata": {
    "collapsed": false
   },
   "outputs": [
    {
     "name": "stdout",
     "output_type": "stream",
     "text": [
      "-200.0\n"
     ]
    }
   ],
   "source": [
    "print h"
   ]
  },
  {
   "cell_type": "markdown",
   "metadata": {},
   "source": [
    "#### Estimated magnetic moment distribution"
   ]
  },
  {
   "cell_type": "markdown",
   "metadata": {},
   "source": [
    "Linear inverse problem for estimating the physical property distribution within the equivalent layer. A previously estimated equivalent layer may be saved at the directory `results` as a pickle file named `inversion_notebookname.pickle`. Execute the cell below to check if this file exists. If this file does not exist, an IOError will be raised. In this case, you will need to run the inversion. To do this, you need first transform the following 17 cells from `Raw NBConvert` to `Code` and then execute them."
   ]
  },
  {
   "cell_type": "code",
   "execution_count": 18,
   "metadata": {
    "collapsed": false
   },
   "outputs": [
    {
     "name": "stdout",
     "output_type": "stream",
     "text": [
      "Generated by estimated_moment2.ipynb on 25 May 2016 21:57:19 UTC\n"
     ]
    }
   ],
   "source": [
    "file_name = 'results\\\\inversion_%s.pickle' % notebook_name[:st.index(notebook_name,'.')]\n",
    "with open(file_name) as f:\n",
    "        inversion = pickle.load(f)\n",
    "\n",
    "layer = inversion['layer']\n",
    "predicted = inversion['predicted']\n",
    "estimate = inversion['estimate']\n",
    "\n",
    "print inversion['metadata']"
   ]
  },
  {
   "cell_type": "raw",
   "metadata": {
    "collapsed": false
   },
   "source": [
    "#equivalent layer\n",
    "layer = PointGrid(coarse_grid['area'], h, coarse_grid['shape'])"
   ]
  },
  {
   "cell_type": "raw",
   "metadata": {
    "collapsed": true
   },
   "source": [
    "# misfit function\n",
    "# note that the incination (sinc) and declination (sdec) of the sources are\n",
    "# equal to the local-geomagnetic field\n",
    "misfit = EQLTotalField(xp, yp, zp, tf, inc, dec, layer, sinc=inc, sdec=dec)"
   ]
  },
  {
   "cell_type": "raw",
   "metadata": {
    "collapsed": true
   },
   "source": [
    "# normalizing factor\n",
    "f0 = np.trace(misfit.hessian(None))/misfit.nparams"
   ]
  },
  {
   "cell_type": "raw",
   "metadata": {
    "collapsed": false
   },
   "source": [
    "print 'f0 = %10.3e' % f0"
   ]
  },
  {
   "cell_type": "raw",
   "metadata": {
    "collapsed": true
   },
   "source": [
    "# Tikhonov regularization\n",
    "#regul = Damping(layer.size)\n",
    "regul = Smoothness2D(layer.shape)"
   ]
  },
  {
   "cell_type": "raw",
   "metadata": {
    "collapsed": true
   },
   "source": [
    "# Use the L-curve to find the best regularization parameter\n",
    "solver = LCurve(misfit, regul, [f0*(10.**i) for i in range(-10, -1)]).fit()"
   ]
  },
  {
   "cell_type": "raw",
   "metadata": {
    "collapsed": false
   },
   "source": [
    "print 'u0 = %10.3e' % ((1./f0)*solver.regul_param_)"
   ]
  },
  {
   "cell_type": "raw",
   "metadata": {
    "collapsed": false
   },
   "source": [
    "layer.addprop('magnetization', ang2vec(solver.estimate_, inc, dec))"
   ]
  },
  {
   "cell_type": "raw",
   "metadata": {
    "collapsed": true
   },
   "source": [
    "predicted = solver[0].predicted()"
   ]
  },
  {
   "cell_type": "raw",
   "metadata": {
    "collapsed": true
   },
   "source": [
    "estimate = solver.estimate_"
   ]
  },
  {
   "cell_type": "raw",
   "metadata": {},
   "source": [
    "residuals = solver[0].residuals()"
   ]
  },
  {
   "cell_type": "code",
   "execution_count": 19,
   "metadata": {
    "collapsed": false
   },
   "outputs": [
    {
     "name": "stdout",
     "output_type": "stream",
     "text": [
      "minimum, mean, maximum differences\n",
      "-17.95297, 0.01291, 15.84275\n"
     ]
    }
   ],
   "source": [
    "print 'minimum, mean, maximum differences'\n",
    "print '%.5f, %.5f, %.5f' % (np.min(predicted - tf), np.mean(predicted - tf), np.max(predicted - tf))"
   ]
  },
  {
   "cell_type": "markdown",
   "metadata": {},
   "source": [
    "#### Save the results"
   ]
  },
  {
   "cell_type": "raw",
   "metadata": {
    "collapsed": true
   },
   "source": [
    "inversion = dict() #empty dictionary"
   ]
  },
  {
   "cell_type": "raw",
   "metadata": {
    "collapsed": true
   },
   "source": [
    "now = datetime.datetime.utcnow().strftime('%d %B %Y %H:%M:%S UTC')\n",
    "inversion['metadata'] = 'Generated by {name} on {date}'.format(date=now, name=notebook_name)"
   ]
  },
  {
   "cell_type": "raw",
   "metadata": {
    "collapsed": true
   },
   "source": [
    "inversion['layer'] = layer"
   ]
  },
  {
   "cell_type": "raw",
   "metadata": {
    "collapsed": true
   },
   "source": [
    "inversion['predicted'] = solver[0].predicted()"
   ]
  },
  {
   "cell_type": "raw",
   "metadata": {
    "collapsed": true
   },
   "source": [
    "inversion['estimate'] = solver.estimate_"
   ]
  },
  {
   "cell_type": "raw",
   "metadata": {
    "collapsed": true
   },
   "source": [
    "#save the inversion results by using the Python pickle module (https://docs.python.org/2/library/pickle.html)\n",
    "file_name = 'results\\\\inversion_%s.pickle' % notebook_name[:st.index(notebook_name,'.')]\n",
    "with open(file_name, 'w') as f:\n",
    "    pickle.dump(inversion, f)\n",
    "saved_files.append(file_name)"
   ]
  },
  {
   "cell_type": "markdown",
   "metadata": {},
   "source": [
    "#### Estimated magnetic-moment distribution, predicted total-field anomaly and predicted RTP"
   ]
  },
  {
   "cell_type": "code",
   "execution_count": 20,
   "metadata": {
    "collapsed": true
   },
   "outputs": [],
   "source": [
    "# equivalent layer\n",
    "layer_pole = PointGrid(coarse_grid['area'], h, coarse_grid['shape'])"
   ]
  },
  {
   "cell_type": "code",
   "execution_count": 21,
   "metadata": {
    "collapsed": false
   },
   "outputs": [],
   "source": [
    "# set the magnetic moment distribution within the planar equivalent layer\n",
    "# for calculating the RTP anomaly\n",
    "layer_pole.addprop('magnetization', ang2vec(estimate, 90., 0.))"
   ]
  },
  {
   "cell_type": "code",
   "execution_count": 22,
   "metadata": {
    "collapsed": true
   },
   "outputs": [],
   "source": [
    "# predicted RTP anomaly\n",
    "tf_pred_pole = sphere.tf(xp, yp, zp, layer_pole, 90., 0.)"
   ]
  },
  {
   "cell_type": "markdown",
   "metadata": {},
   "source": [
    "#### Comparison between the true and upward continued anomalies"
   ]
  },
  {
   "cell_type": "code",
   "execution_count": 23,
   "metadata": {
    "collapsed": true
   },
   "outputs": [],
   "source": [
    "# predicted RTP anomaly\n",
    "tf_pred_cont = sphere.tf(xp, yp, z_cont, layer, inc, dec)"
   ]
  },
  {
   "cell_type": "code",
   "execution_count": 24,
   "metadata": {
    "collapsed": false
   },
   "outputs": [
    {
     "name": "stdout",
     "output_type": "stream",
     "text": [
      "minimum, mean, maximum differences\n",
      "-73.75556, 0.23008, 35.43472\n"
     ]
    }
   ],
   "source": [
    "print 'minimum, mean, maximum differences'\n",
    "print '%.5f, %.5f, %.5f' % (np.min(tf_pred_cont - tf_cont), \n",
    "                            np.mean(tf_pred_cont - tf_cont), \n",
    "                            np.max(tf_pred_cont - tf_cont))"
   ]
  },
  {
   "cell_type": "code",
   "execution_count": 25,
   "metadata": {
    "collapsed": false
   },
   "outputs": [
    {
     "data": {
      "image/png": "[encoded data removed]",
      "text/plain": [
       "<matplotlib.figure.Figure at 0x80a1588>"
      ]
     },
     "metadata": {},
     "output_type": "display_data"
    }
   ],
   "source": [
    "file_name = 'figs\\\\Fig9'\n",
    "\n",
    "f, ax = plt.subplots(3,2,figsize=(4.33333,2*2.66667))\n",
    "\n",
    "af.multiplotmap(ax[0][0], xp, yp, (10.**-9)*estimate, \n",
    "                coarse_grid['shape'], coarse_grid['area'], \n",
    "                color_scheme = 'Greys',\n",
    "                prism_projection = True, projection_style = '-k', \n",
    "                model = full_model['projection'], \n",
    "                ranges = af.scale_bounds((10**-9)*estimate, div=True),\n",
    "                figure_label = '(a)', label_position = (0.02,0.89), label_x = False)\n",
    "\n",
    "af.multiplotmap(ax[1][0], xp, yp, predicted, coarse_grid['shape'], coarse_grid['area'], \n",
    "                color_scheme = 'Greys',\n",
    "                prism_projection = True, projection_style = '-k', \n",
    "                model = full_model['projection'], ranges = af.scale_bounds(tf, div=True),\n",
    "                figure_label = '(b)', label_position = (0.02,0.89), label_x = False)\n",
    "\n",
    "af.multiplotmap(ax[2][0], xp, yp, tf_pred_pole, coarse_grid['shape'], coarse_grid['area'],\n",
    "                color_scheme = 'Greys',\n",
    "                prism_projection = True, projection_style = '-k', \n",
    "                model = full_model['projection'], \n",
    "                figure_label = '(c)', label_position = (0.02,0.89))\n",
    "\n",
    "af.multiplotmap(ax[0][1], xp, yp, tf_cont, coarse_grid['shape'], coarse_grid['area'], \n",
    "                color_scheme = 'Greys',\n",
    "                prism_projection = True, projection_style = '-k', \n",
    "                model = full_model_pole['projection'], ranges = af.scale_bounds(tf_cont, div=True),\n",
    "                figure_label = '(d)', label_position = (0.02,0.89), label_x = False, label_y = False)\n",
    "\n",
    "af.multiplotmap(ax[1][1], xp, yp, tf_pred_cont, coarse_grid['shape'], coarse_grid['area'], \n",
    "                color_scheme = 'Greys',\n",
    "                prism_projection = True, projection_style = '-k', \n",
    "                model = full_model_pole['projection'], ranges = af.scale_bounds(tf_cont, div=True),\n",
    "                figure_label = '(e)', label_position = (0.02,0.89), label_x = False, label_y = False)\n",
    "\n",
    "af.multiplotmap(ax[2][1], xp, yp, tf_pred_cont - tf_cont, coarse_grid['shape'], coarse_grid['area'],\n",
    "                color_scheme = 'Greys',\n",
    "                prism_projection = True, projection_style = '-k', \n",
    "                model = full_model['projection'],\n",
    "                figure_label = '(f)', label_position = (0.02,0.89), label_y = False)\n",
    "\n",
    "plt.tight_layout()\n",
    "\n",
    "plt.savefig(file_name+'.png', dpi=600)\n",
    "saved_files.append(file_name+'.png')\n",
    "\n",
    "plt.show()"
   ]
  },
  {
   "cell_type": "code",
   "execution_count": 26,
   "metadata": {
    "collapsed": false
   },
   "outputs": [],
   "source": [
    "caption = \"(a) Estimated magnetic-moment distribution (in $10^{9}$ Am$^{2}$) \\\n",
    "within the planar equivalent layer. The estimate was obtained by \\\n",
    "solving a linear inverse problem subject to fitting the noise-free total-field \\\n",
    "anomaly shown in Figure 5a. \\\n",
    "The equivalent sources have the same magnetization direction as the local-geomagnetic \\\n",
    "field (inclination %.0f$^{\\circ}$ and declination %.1f$^{\\circ}$), which is different \\\n",
    "from the magnetization direction of the simulated prisms (Figure 3). \\\n",
    "(b) Total-field and (c) RTP anomalies (in nT) produced by the planar \\\n",
    "equivalent layer whose estimated magnetic moment distribution \\\n",
    "is shown in a. \\\n",
    "(d) True and (e) upward-continued noise-free total-field anomaly \\\n",
    "computed on a horizontal plane at $z = $%.0f m. \\\n",
    "The true anomaly shown in d was produced by the simulated \\\n",
    "prisms (Figure 3). The upward-continued anomaly \\\n",
    "shown in e was predicted by the planar equivalent layer \\\n",
    "having the estimated magnetic-moment distribution shown in a. \\\n",
    "(f) Difference between the total-field anomalies shown in e and d. \\\n",
    "All data are calculated at a regular grid of %d $\\\\times$ %d points. \\\n",
    "The black rectangles represent the horizontal projection of the simulated \\\n",
    "prisms (Figure 3).\" \\\n",
    "% (inc, dec, z_cont[0], coarse_grid['shape'][0], coarse_grid['shape'][1])"
   ]
  },
  {
   "cell_type": "code",
   "execution_count": 27,
   "metadata": {
    "collapsed": false
   },
   "outputs": [
    {
     "data": {
      "text/markdown": [
       "(a) Estimated magnetic-moment distribution (in $10^{9}$ Am$^{2}$) within the planar equivalent layer. The estimate was obtained by solving a linear inverse problem subject to fitting the noise-free total-field anomaly shown in Figure 5a. The equivalent sources have the same magnetization direction as the local-geomagnetic field (inclination 6$^{\\circ}$ and declination -40.5$^{\\circ}$), which is different from the magnetization direction of the simulated prisms (Figure 3). (b) Total-field and (c) RTP anomalies (in nT) produced by the planar equivalent layer whose estimated magnetic moment distribution is shown in a. (d) True and (e) upward-continued noise-free total-field anomaly computed on a horizontal plane at $z = $-1400 m. The true anomaly shown in d was produced by the simulated prisms (Figure 3). The upward-continued anomaly shown in e was predicted by the planar equivalent layer having the estimated magnetic-moment distribution shown in a. (f) Difference between the total-field anomalies shown in e and d. All data are calculated at a regular grid of 90 $\\times$ 90 points. The black rectangles represent the horizontal projection of the simulated prisms (Figure 3)."
      ],
      "text/plain": [
       "<IPython.core.display.Markdown object>"
      ]
     },
     "metadata": {},
     "output_type": "display_data"
    }
   ],
   "source": [
    "dp(md(caption))"
   ]
  },
  {
   "cell_type": "markdown",
   "metadata": {},
   "source": [
    "### Saved files"
   ]
  },
  {
   "cell_type": "code",
   "execution_count": 28,
   "metadata": {
    "collapsed": false
   },
   "outputs": [
    {
     "name": "stdout",
     "output_type": "stream",
     "text": [
      "1  results\\tf_cont_cgrid.txt\n",
      "2  figs\\Fig9.png\n"
     ]
    }
   ],
   "source": [
    "with open('reports\\\\report_%s.md' % notebook_name[:st.index(notebook_name,'.')], 'w') as f:\n",
    "    f.write('# Saved files \\n')\n",
    "    f.write('\\n\\n'+inversion['metadata']+'\\n\\n')\n",
    "    f.write('*  `results\\\\inversion_%s.pickle`' % notebook_name[:st.index(notebook_name,'.')])\n",
    "    now = datetime.datetime.utcnow().strftime('%d %B %Y %H:%M:%S UTC')\n",
    "    header = 'Generated by {name} on {date}'.format(date=now, name=notebook_name)\n",
    "    f.write('\\n\\n'+header+'\\n\\n')\n",
    "    for i, sf in enumerate(saved_files):\n",
    "        print '%d  %s' % (i+1,sf)\n",
    "        f.write('*  `%s` \\n' % (sf))"
   ]
  },
  {
   "cell_type": "code",
   "execution_count": null,
   "metadata": {
    "collapsed": true
   },
   "outputs": [],
   "source": []
  }
 ],
 "metadata": {
  "anaconda-cloud": {},
  "kernelspec": {
   "display_name": "Python [default]",
   "language": "python",
   "name": "python2"
  },
  "language_info": {
   "codemirror_mode": {
    "name": "ipython",
    "version": 2
   },
   "file_extension": ".py",
   "mimetype": "text/x-python",
   "name": "python",
   "nbconvert_exporter": "python",
   "pygments_lexer": "ipython2",
   "version": "2.7.12"
  }
 },
 "nbformat": 4,
 "nbformat_minor": 0
}
