{
 "cells": [
  {
   "cell_type": "markdown",
   "metadata": {},
   "source": [
    "# Theoretical magnetic moment distribution"
   ]
  },
  {
   "cell_type": "markdown",
   "metadata": {},
   "source": [
    "### Brief description"
   ]
  },
  {
   "cell_type": "markdown",
   "metadata": {},
   "source": [
    "This Jupyter notebook is a supplementary material contaning the code needed to generate part of the synthetic data and reproduce part of the figures and results of this course. This code uses the open-source Python toolkit for geophysical modeling and inversion [Fatiando a Terra](http://www.fatiando.org/index.html).\n",
    "\n",
    "This code presents a numerical validation of the theoretical magnetic moment distribution within a planar equivalent layer."
   ]
  },
  {
   "cell_type": "markdown",
   "metadata": {},
   "source": [
    "**Note:** A Jupyter notebook is a document that incorporates text, results, figures, and the Python source code to produce them. If you are viewing this from the URL https://nbviewer.jupyter.org/, the document will be static (not executable). To run the code, you will need to download the notebook and install all the required dependencies. For installing the Fatiando a Terra and all the required dependencies, please follow the instructions shown in http://www.fatiando.org/install.html."
   ]
  },
  {
   "cell_type": "markdown",
   "metadata": {},
   "source": [
    "### Import the required dependencies"
   ]
  },
  {
   "cell_type": "code",
   "execution_count": 1,
   "metadata": {
    "collapsed": true
   },
   "outputs": [],
   "source": [
    "%matplotlib inline\n",
    "import numpy as np\n",
    "from matplotlib import pyplot as plt\n",
    "import cPickle as pickle\n",
    "import datetime\n",
    "from IPython.display import Markdown as md\n",
    "from IPython.display import display as dp\n",
    "import string as st\n",
    "\n",
    "from __future__ import division\n",
    "from future.builtins import super\n",
    "\n",
    "import auxiliary_functions as af\n",
    "\n",
    "from fatiando import gridder\n",
    "from fatiando.mesher import Prism, PointGrid\n",
    "from fatiando.gridder import regular\n",
    "from fatiando.gravmag import prism, sphere\n",
    "from fatiando.gravmag.eqlayer import EQLTotalField\n",
    "from fatiando.inversion.regularization import Damping, Smoothness2D\n",
    "from fatiando.inversion.hyper_param import LCurve\n",
    "from fatiando.vis import mpl, myv\n",
    "from fatiando.utils import ang2vec, vec2ang\n",
    "from fatiando.constants import G, SI2MGAL"
   ]
  },
  {
   "cell_type": "code",
   "execution_count": 2,
   "metadata": {
    "collapsed": false
   },
   "outputs": [],
   "source": [
    "plt.rcParams['font.size'] = 6\n",
    "plt.rcParams['axes.labelsize'] = 8\n",
    "plt.rcParams['xtick.labelsize'] = 6\n",
    "plt.rcParams['ytick.labelsize'] = 6\n",
    "plt.rcParams['legend.fontsize'] = 6\n",
    "plt.rcParams['xtick.major.pad'] = 3\n",
    "plt.rcParams['ytick.major.pad'] = 3"
   ]
  },
  {
   "cell_type": "code",
   "execution_count": 3,
   "metadata": {
    "collapsed": true
   },
   "outputs": [],
   "source": [
    "notebook_name = 'theoretical_moment.ipynb'"
   ]
  },
  {
   "cell_type": "code",
   "execution_count": 4,
   "metadata": {
    "collapsed": true
   },
   "outputs": [],
   "source": [
    "saved_files = [] #list of saved files"
   ]
  },
  {
   "cell_type": "markdown",
   "metadata": {},
   "source": [
    "### Load the synthetic model formed by two rectangular prisms"
   ]
  },
  {
   "cell_type": "code",
   "execution_count": 5,
   "metadata": {
    "collapsed": false
   },
   "outputs": [],
   "source": [
    "with open('results\\\\model.pickle') as f:\n",
    "        full_model = pickle.load(f)"
   ]
  },
  {
   "cell_type": "code",
   "execution_count": 6,
   "metadata": {
    "collapsed": true
   },
   "outputs": [],
   "source": [
    "inc, dec = full_model['geomag_field']"
   ]
  },
  {
   "cell_type": "code",
   "execution_count": 7,
   "metadata": {
    "collapsed": false
   },
   "outputs": [],
   "source": [
    "ints, incs, decs = vec2ang(full_model['model'][0].props['magnetization'])"
   ]
  },
  {
   "cell_type": "code",
   "execution_count": 8,
   "metadata": {
    "collapsed": true
   },
   "outputs": [],
   "source": [
    "rhos = full_model['model'][0].props['density']"
   ]
  },
  {
   "cell_type": "code",
   "execution_count": 9,
   "metadata": {
    "collapsed": true
   },
   "outputs": [],
   "source": [
    "with open('results\\\\model_pole.pickle') as f:\n",
    "        full_model_pole = pickle.load(f)"
   ]
  },
  {
   "cell_type": "markdown",
   "metadata": {
    "collapsed": false
   },
   "source": [
    "### Load the grid of points"
   ]
  },
  {
   "cell_type": "code",
   "execution_count": 10,
   "metadata": {
    "collapsed": true
   },
   "outputs": [],
   "source": [
    "with open('results\\\\coarse_grid.pickle') as f:\n",
    "        coarse_grid = pickle.load(f)"
   ]
  },
  {
   "cell_type": "code",
   "execution_count": 11,
   "metadata": {
    "collapsed": false
   },
   "outputs": [
    {
     "data": {
      "text/plain": [
       "{'DS': 113622.01742204267,\n",
       " 'N': 8100,\n",
       " 'area': [0, 30000, 5000, 35000],\n",
       " 'metadata': 'Generated by computation_points.ipynb on 19 October 2016 19:29:39 UTC',\n",
       " 'shape': (90, 90),\n",
       " 'spacing': [337.07865168539325, 337.07865168539325]}"
      ]
     },
     "execution_count": 11,
     "metadata": {},
     "output_type": "execute_result"
    }
   ],
   "source": [
    "coarse_grid"
   ]
  },
  {
   "cell_type": "markdown",
   "metadata": {},
   "source": [
    "### Define the coordinates on the observation surface"
   ]
  },
  {
   "cell_type": "code",
   "execution_count": 12,
   "metadata": {
    "collapsed": false
   },
   "outputs": [],
   "source": [
    "#coordinates x and y of the data\n",
    "xp, yp = regular(coarse_grid['area'], coarse_grid['shape'])\n",
    "\n",
    "#vertical coordinates of the data\n",
    "zp = af.observation_surface(xp,yp)"
   ]
  },
  {
   "cell_type": "markdown",
   "metadata": {},
   "source": [
    "### Observed total-field anomaly"
   ]
  },
  {
   "cell_type": "markdown",
   "metadata": {},
   "source": [
    "Noise-free total-field anomaly (equation 8) produced by the synthetic prisms (Figure 3) at the `coarse_grid` points on the undulating surface (Figure 4)."
   ]
  },
  {
   "cell_type": "code",
   "execution_count": 13,
   "metadata": {
    "collapsed": false
   },
   "outputs": [],
   "source": [
    "tf = prism.tf(xp,yp,zp,full_model['model'], inc, dec)"
   ]
  },
  {
   "cell_type": "markdown",
   "metadata": {},
   "source": [
    "### True RTP anomaly"
   ]
  },
  {
   "cell_type": "markdown",
   "metadata": {},
   "source": [
    "Noise-free RTP anomaly (equation 9) produced by the synthetic prisms (Figure 3) at the `coarse_grid` points on the undulating surface (Figure 4)."
   ]
  },
  {
   "cell_type": "code",
   "execution_count": 14,
   "metadata": {
    "collapsed": true
   },
   "outputs": [],
   "source": [
    "tf_pole = prism.tf(xp,yp,zp,full_model_pole['model'], 90., 0.)"
   ]
  },
  {
   "cell_type": "markdown",
   "metadata": {},
   "source": [
    "### Planar equivalent layer"
   ]
  },
  {
   "cell_type": "markdown",
   "metadata": {},
   "source": [
    "#### Parameters defining the equivalent layer"
   ]
  },
  {
   "cell_type": "code",
   "execution_count": 15,
   "metadata": {
    "collapsed": false
   },
   "outputs": [],
   "source": [
    "#horizontal plane containing the equivalent sources\n",
    "z0 = np.zeros_like(zp)\n",
    "#h = np.max(zp) + 1.4*dx\n",
    "h = -200.\n",
    "z0 += h"
   ]
  },
  {
   "cell_type": "code",
   "execution_count": 16,
   "metadata": {
    "collapsed": false
   },
   "outputs": [
    {
     "name": "stdout",
     "output_type": "stream",
     "text": [
      "-200.0\n"
     ]
    }
   ],
   "source": [
    "print h"
   ]
  },
  {
   "cell_type": "markdown",
   "metadata": {},
   "source": [
    "#### Theoretical magnetic moment distribution within the equivalent layer"
   ]
  },
  {
   "cell_type": "code",
   "execution_count": 17,
   "metadata": {
    "collapsed": false
   },
   "outputs": [],
   "source": [
    "#equivalent layer\n",
    "layer = PointGrid(coarse_grid['area'], h, coarse_grid['shape'])"
   ]
  },
  {
   "cell_type": "code",
   "execution_count": 18,
   "metadata": {
    "collapsed": true
   },
   "outputs": [],
   "source": [
    "# gravity anomaly produced by the synthetic prisms at the planar equivalent layer\n",
    "g0 = prism.gz(xp, yp, z0, full_model['model'])"
   ]
  },
  {
   "cell_type": "code",
   "execution_count": 19,
   "metadata": {
    "collapsed": false
   },
   "outputs": [],
   "source": [
    "caption = \"Noise-free gravity anomaly (equation 1) produced by the synthetic prisms (Figure 3) \\\n",
    "at a $%d \\\\times %d$ grid of points located on the horizontal plane $z_{c} = %.1f$.\" \\\n",
    "% (coarse_grid['shape'][0], coarse_grid['shape'][1], h)"
   ]
  },
  {
   "cell_type": "code",
   "execution_count": 20,
   "metadata": {
    "collapsed": false
   },
   "outputs": [
    {
     "data": {
      "text/markdown": [
       "Noise-free gravity anomaly (equation 1) produced by the synthetic prisms (Figure 3) at a $90 \\times 90$ grid of points located on the horizontal plane $z_{c} = -200.0$."
      ],
      "text/plain": [
       "<IPython.core.display.Markdown object>"
      ]
     },
     "metadata": {},
     "output_type": "display_data"
    }
   ],
   "source": [
    "dp(md(caption))"
   ]
  },
  {
   "cell_type": "code",
   "execution_count": 21,
   "metadata": {
    "collapsed": false
   },
   "outputs": [],
   "source": [
    "# theoretical magnetic-moment distribution (equation 52)\n",
    "moment = ints*g0*coarse_grid['DS']/(2.*np.pi*G*SI2MGAL*rhos)"
   ]
  },
  {
   "cell_type": "code",
   "execution_count": 22,
   "metadata": {
    "collapsed": false
   },
   "outputs": [],
   "source": [
    "# set the magnetic moment distribution within the planar equivalent layer\n",
    "layer.addprop('magnetization', ang2vec(moment, incs, decs))"
   ]
  },
  {
   "cell_type": "code",
   "execution_count": 23,
   "metadata": {
    "collapsed": false
   },
   "outputs": [
    {
     "data": {
      "image/png": "[encoded data removed]",
      "text/plain": [
       "<matplotlib.figure.Figure at 0xae25cf8>"
      ]
     },
     "metadata": {},
     "output_type": "display_data"
    }
   ],
   "source": [
    "file_name = 'figs\\\\Fig6'\n",
    "\n",
    "nplots = 2\n",
    "\n",
    "f, (ax1, ax2) = plt.subplots(nplots,figsize=(3.33333,nplots*2.66667))\n",
    "\n",
    "af.multiplotmap(ax2, xp, yp, g0, coarse_grid['shape'], coarse_grid['area'],\n",
    "                color_scheme = 'Greys', prism_projection = True, projection_style = '-k', \n",
    "                model = full_model['projection'], unit = 'mGal', \n",
    "                figure_label = '(b)')\n",
    "\n",
    "af.multiplotmap(ax1, xp, yp, (10.**-9)*moment, coarse_grid['shape'], coarse_grid['area'],\n",
    "                color_scheme = 'Greys', prism_projection = True, projection_style = '-k', \n",
    "                model = full_model['projection'], unit = '10$^{9}$ Am$^{2}$', \n",
    "                ranges = (0., 1.),\n",
    "                figure_label = '(a)', label_x = False)\n",
    "\n",
    "plt.savefig(file_name+'.eps', dpi=600)\n",
    "saved_files.append(file_name+'.eps')\n",
    "\n",
    "plt.show()"
   ]
  },
  {
   "cell_type": "code",
   "execution_count": 24,
   "metadata": {
    "collapsed": false
   },
   "outputs": [],
   "source": [
    "caption = \"(a) Theoretical magnetic-moment distribution \\\n",
    "(equation 56) calculated within a planar equivalent layer. \\\n",
    "The layer is formed by a regular grid of %d $\\\\times$ %d \\\n",
    "dipoles located at coordinates $(x_{j}, y_{j}, z_{c})$, \\\n",
    "$j = 1, \\dots, N =$ %d, where $z_{c} =$ %.0f m. \\\n",
    "This magnetic-moment distribution is calculated by using (b) the \\\n",
    "noise-free gravity anomaly (equation 1), which is \\\n",
    "produced by the synthetic prisms (Figure 3) at the \\\n",
    "coordinates of the dipoles. \\\n",
    "The black rectangles represent the horizontal projection of the simulated prisms \\\n",
    "(Figure 3).\" \\\n",
    "% (coarse_grid['shape'][0], coarse_grid['shape'][1], coarse_grid['N'], h)"
   ]
  },
  {
   "cell_type": "code",
   "execution_count": 25,
   "metadata": {
    "collapsed": false
   },
   "outputs": [
    {
     "data": {
      "text/markdown": [
       "(a) Theoretical magnetic-moment distribution (equation 56) calculated within a planar equivalent layer. The layer is formed by a regular grid of 90 $\\times$ 90 dipoles located at coordinates $(x_{j}, y_{j}, z_{c})$, $j = 1, \\dots, N =$ 8100, where $z_{c} =$ -200 m. This magnetic-moment distribution is calculated by using (b) the noise-free gravity anomaly (equation 1), which is produced by the synthetic prisms (Figure 3) at the coordinates of the dipoles. The black rectangles represent the horizontal projection of the simulated prisms (Figure 3)."
      ],
      "text/plain": [
       "<IPython.core.display.Markdown object>"
      ]
     },
     "metadata": {},
     "output_type": "display_data"
    }
   ],
   "source": [
    "dp(md(caption))"
   ]
  },
  {
   "cell_type": "markdown",
   "metadata": {},
   "source": [
    "#### Save the theoretical magnetic moment distribution within the equivalent layer"
   ]
  },
  {
   "cell_type": "code",
   "execution_count": 26,
   "metadata": {
    "collapsed": false
   },
   "outputs": [],
   "source": [
    "theoretical_mag_dist = dict() #empty dictionary"
   ]
  },
  {
   "cell_type": "code",
   "execution_count": 27,
   "metadata": {
    "collapsed": true
   },
   "outputs": [],
   "source": [
    "#area over which the equivalent layer is defined\n",
    "#x minimum, x maximum, y minimum and y maximum\n",
    "theoretical_mag_dist['area'] = layer.area\n",
    "\n",
    "#number of equivalent sources along the x and y directions\n",
    "theoretical_mag_dist['shape'] = layer.shape\n",
    "\n",
    "#constant depth zc\n",
    "theoretical_mag_dist['zc'] = h\n",
    "\n",
    "#magnetic-moment distribution\n",
    "theoretical_mag_dist['moment'] = moment"
   ]
  },
  {
   "cell_type": "code",
   "execution_count": 28,
   "metadata": {
    "collapsed": true
   },
   "outputs": [],
   "source": [
    "#auxiliary informations about the theoretical magnetic-moment distribution\n",
    "now = datetime.datetime.utcnow().strftime('%d %B %Y %H:%M:%S UTC')\n",
    "theoretical_mag_dist['metadata'] = 'Generated by {name} on {date}'.format(date=now, name=notebook_name)"
   ]
  },
  {
   "cell_type": "code",
   "execution_count": 29,
   "metadata": {
    "collapsed": true
   },
   "outputs": [],
   "source": [
    "#save the theoretical magnetic-moment distribution by using the Python \n",
    "#pickle module (https://docs.python.org/2/library/pickle.html)\n",
    "file_name = 'results\\\\theoretical_mag_dist.pickle'\n",
    "with open(file_name, 'w') as f:\n",
    "    pickle.dump(theoretical_mag_dist, f)\n",
    "saved_files.append(file_name)"
   ]
  },
  {
   "cell_type": "markdown",
   "metadata": {},
   "source": [
    "#### Comparison by the magnetic data produced by the simulated prisms and those ones produced by the equivalent layer having the theoretical magnetic-moment distribution"
   ]
  },
  {
   "cell_type": "code",
   "execution_count": 30,
   "metadata": {
    "collapsed": true
   },
   "outputs": [],
   "source": [
    "# calculates the predicted total-field anomaly\n",
    "tf_pred = sphere.tf(xp, yp, zp, layer, inc, dec)"
   ]
  },
  {
   "cell_type": "code",
   "execution_count": 31,
   "metadata": {
    "collapsed": true
   },
   "outputs": [],
   "source": [
    "# equivalent layer\n",
    "layer_pole = PointGrid(coarse_grid['area'], h, coarse_grid['shape'])"
   ]
  },
  {
   "cell_type": "code",
   "execution_count": 32,
   "metadata": {
    "collapsed": true
   },
   "outputs": [],
   "source": [
    "# set the magnetic moment distribution within the planar equivalent layer\n",
    "# for calculating the RTP anomaly\n",
    "layer_pole.addprop('magnetization', ang2vec(moment, 90., 0.))"
   ]
  },
  {
   "cell_type": "code",
   "execution_count": 33,
   "metadata": {
    "collapsed": true
   },
   "outputs": [],
   "source": [
    "# predicted RTP anomaly\n",
    "tf_pred_pole = sphere.tf(xp, yp, zp, layer_pole, 90., 0.)"
   ]
  },
  {
   "cell_type": "code",
   "execution_count": 34,
   "metadata": {
    "collapsed": false
   },
   "outputs": [
    {
     "name": "stdout",
     "output_type": "stream",
     "text": [
      "minimum, mean and maximum differences\n",
      "Total-field anomalies:\n",
      "-5.01496 -0.27727 2.09757\n",
      "RTP anomalies:\n",
      "-0.07105 0.84949 5.60517\n"
     ]
    }
   ],
   "source": [
    "# differences\n",
    "print 'minimum, mean and maximum differences'\n",
    "print 'Total-field anomalies:'\n",
    "print '%.5f %.5f %.5f' % (np.min(tf_pred - tf), np.mean(tf_pred - tf), np.max(tf_pred - tf))\n",
    "print 'RTP anomalies:'\n",
    "print '%.5f %.5f %.5f' % (np.min(tf_pred_pole - tf_pole), np.mean(tf_pred_pole - tf_pole), np.max(tf_pred_pole - tf_pole))"
   ]
  },
  {
   "cell_type": "code",
   "execution_count": 35,
   "metadata": {
    "collapsed": false
   },
   "outputs": [
    {
     "data": {
      "image/png": "[encoded data removed]",
      "text/plain": [
       "<matplotlib.figure.Figure at 0x41041d0>"
      ]
     },
     "metadata": {},
     "output_type": "display_data"
    }
   ],
   "source": [
    "file_name = 'figs\\\\Fig5'\n",
    "\n",
    "f, ax = plt.subplots(3,2,figsize=(4.33333,2*2.66667))\n",
    "\n",
    "af.multiplotmap(ax[0][0], xp, yp, tf, coarse_grid['shape'], coarse_grid['area'], \n",
    "                color_scheme = 'Greys',\n",
    "                prism_projection = True, projection_style = '-k', \n",
    "                model = full_model['projection'], ranges = af.scale_bounds(tf, div=True),\n",
    "                figure_label = '(a)', label_position = (0.02,0.89), label_x = False)\n",
    "\n",
    "af.multiplotmap(ax[1][0], xp, yp, tf_pred, coarse_grid['shape'], coarse_grid['area'],\n",
    "                color_scheme = 'Greys',\n",
    "                prism_projection = True, projection_style = '-k', \n",
    "                model = full_model['projection'], ranges = af.scale_bounds(tf, div=True),\n",
    "                figure_label = '(c)', label_position = (0.02,0.89), label_x = False)\n",
    "\n",
    "af.multiplotmap(ax[2][0], xp, yp, tf_pred - tf, coarse_grid['shape'], coarse_grid['area'],\n",
    "                color_scheme = 'Greys',\n",
    "                prism_projection = True, projection_style = '-k', \n",
    "                model = full_model['projection'], ranges = (-5., 5.),\n",
    "                figure_label = '(e)', label_position = (0.02,0.89))\n",
    "\n",
    "af.multiplotmap(ax[0][1], xp, yp, tf_pole, coarse_grid['shape'], coarse_grid['area'], \n",
    "                color_scheme = 'Greys',\n",
    "                prism_projection = True, projection_style = '-k', \n",
    "                model = full_model_pole['projection'],\n",
    "                figure_label = '(b)', label_position = (0.02,0.89), label_x = False, label_y = False)\n",
    "\n",
    "af.multiplotmap(ax[1][1], xp, yp, tf_pred_pole, coarse_grid['shape'], coarse_grid['area'],\n",
    "                color_scheme = 'Greys',\n",
    "                prism_projection = True, projection_style = '-k', \n",
    "                model = full_model['projection'], \n",
    "                figure_label = '(d)', label_position = (0.02,0.89), label_x = False, label_y = False)\n",
    "\n",
    "af.multiplotmap(ax[2][1], xp, yp, tf_pred_pole - tf_pole, coarse_grid['shape'], coarse_grid['area'],\n",
    "                color_scheme = 'Greys',\n",
    "                prism_projection = True, projection_style = '-k', \n",
    "                model = full_model['projection'], ranges = (-5., 5.),\n",
    "                figure_label = '(f)', label_position = (0.02,0.89), label_y = False)\n",
    "\n",
    "plt.tight_layout()\n",
    "\n",
    "plt.savefig(file_name+'.eps', dpi=600)\n",
    "saved_files.append(file_name+'.eps')\n",
    "\n",
    "plt.show()"
   ]
  },
  {
   "cell_type": "code",
   "execution_count": 36,
   "metadata": {
    "collapsed": false
   },
   "outputs": [],
   "source": [
    "caption = \"(a) Noise-free total-field (equation 8) \\\n",
    "and (b) RTP (equation 9) anomalies \\\n",
    "produced by the synthetic prisms (Figure 3) on the \\\n",
    "undulating surface shown in Figure 4. \\\n",
    "(c) Total-field and (d) RTP anomalies produced by the planar \\\n",
    "equivalent layer which is defined in Figure 6. The \\\n",
    "magnetic moment distribution of this equivalent layer was directly \\\n",
    "calculated by equation 56 and is shown in Figure 6a. \\\n",
    "(e) Difference between the total-field anomalies shown in c and (a). \\\n",
    "(f) Difference between the RTP anomalies shown in d and b. \\\n",
    "These anomalies are calculated at a regular grid of %d $\\\\times$ %d points located on \\\n",
    "the observation surface (Figure 4). \\\n",
    "The black rectangles represent the horizontal projection of the simulated \\\n",
    "prisms (Figure 3). The field values are in nT.\" \\\n",
    "% (coarse_grid['shape'][0], coarse_grid['shape'][1])"
   ]
  },
  {
   "cell_type": "code",
   "execution_count": 37,
   "metadata": {
    "collapsed": false
   },
   "outputs": [
    {
     "data": {
      "text/markdown": [
       "(a) Noise-free total-field (equation 8) and (b) RTP (equation 9) anomalies produced by the synthetic prisms (Figure 3) on the undulating surface shown in Figure 4. (c) Total-field and (d) RTP anomalies produced by the planar equivalent layer which is defined in Figure 6. The magnetic moment distribution of this equivalent layer was directly calculated by equation 56 and is shown in Figure 6a. (e) Difference between the total-field anomalies shown in c and (a). (f) Difference between the RTP anomalies shown in d and b. These anomalies are calculated at a regular grid of 90 $\\times$ 90 points located on the observation surface (Figure 4). The black rectangles represent the horizontal projection of the simulated prisms (Figure 3). The field values are in nT."
      ],
      "text/plain": [
       "<IPython.core.display.Markdown object>"
      ]
     },
     "metadata": {},
     "output_type": "display_data"
    }
   ],
   "source": [
    "dp(md(caption))"
   ]
  },
  {
   "cell_type": "markdown",
   "metadata": {},
   "source": [
    "### Saved files"
   ]
  },
  {
   "cell_type": "code",
   "execution_count": 38,
   "metadata": {
    "collapsed": false
   },
   "outputs": [
    {
     "name": "stdout",
     "output_type": "stream",
     "text": [
      "1  figs\\Fig6.eps\n",
      "2  results\\theoretical_mag_dist.pickle\n",
      "3  figs\\Fig5.eps\n"
     ]
    }
   ],
   "source": [
    "with open('reports\\\\report_%s.md' % notebook_name[:st.index(notebook_name,'.')], 'w') as f:\n",
    "    f.write('# Saved files \\n')\n",
    "    now = datetime.datetime.utcnow().strftime('%d %B %Y %H:%M:%S UTC')\n",
    "    header = 'Generated by {name} on {date}'.format(date=now, name=notebook_name)\n",
    "    f.write('\\n\\n'+header+'\\n\\n')\n",
    "    for i, sf in enumerate(saved_files):\n",
    "        print '%d  %s' % (i+1,sf)\n",
    "        f.write('*  `%s` \\n' % (sf))"
   ]
  },
  {
   "cell_type": "code",
   "execution_count": null,
   "metadata": {
    "collapsed": true
   },
   "outputs": [],
   "source": []
  }
 ],
 "metadata": {
  "anaconda-cloud": {},
  "kernelspec": {
   "display_name": "Python [default]",
   "language": "python",
   "name": "python2"
  },
  "language_info": {
   "codemirror_mode": {
    "name": "ipython",
    "version": 2
   },
   "file_extension": ".py",
   "mimetype": "text/x-python",
   "name": "python",
   "nbconvert_exporter": "python",
   "pygments_lexer": "ipython2",
   "version": "2.7.10"
  }
 },
 "nbformat": 4,
 "nbformat_minor": 0
}
