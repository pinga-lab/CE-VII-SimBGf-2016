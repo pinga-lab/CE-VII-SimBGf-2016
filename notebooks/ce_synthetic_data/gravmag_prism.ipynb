{
 "cells": [
  {
   "cell_type": "code",
   "execution_count": 1,
   "metadata": {
    "collapsed": true
   },
   "outputs": [],
   "source": [
    "# Set PySide compatible APIs.\n",
    "import sip\n",
    "sip.setapi('QString', 2)\n",
    "sip.setapi('QVariant', 2)"
   ]
  },
  {
   "cell_type": "code",
   "execution_count": 2,
   "metadata": {
    "collapsed": false
   },
   "outputs": [],
   "source": [
    "from fatiando import mesher, gridder, gravmag\n",
    "from fatiando.vis import mpl, myv"
   ]
  },
  {
   "cell_type": "code",
   "execution_count": 3,
   "metadata": {
    "collapsed": false
   },
   "outputs": [],
   "source": [
    "#from fatiando.gravmag import _prism_numpy as prism\n",
    "from fatiando.gravmag import prism"
   ]
  },
  {
   "cell_type": "code",
   "execution_count": 4,
   "metadata": {
    "collapsed": true
   },
   "outputs": [],
   "source": [
    "model = [mesher.Prism(-4000, -3000, -4000, -3000, 0, 2000, {'density': 1000}),\n",
    "         mesher.Prism(-1000, 1000, -1000, 1000, 0, 2000, {'density': -900}),\n",
    "         mesher.Prism(2000, 4000, 3000, 4000, 0, 2000, {'density': 1300})]\n",
    "shape = (100, 100)\n",
    "xp, yp, zp = gridder.regular((-5000, 5000, -5000, 5000), shape, z=-150)"
   ]
  },
  {
   "cell_type": "code",
   "execution_count": 5,
   "metadata": {
    "collapsed": false
   },
   "outputs": [
    {
     "ename": "AttributeError",
     "evalue": "'NoneType' object has no attribute 'potential'",
     "output_type": "error",
     "traceback": [
      "\u001b[0;31m\u001b[0m",
      "\u001b[0;31mAttributeError\u001b[0mTraceback (most recent call last)",
      "\u001b[0;32m<ipython-input-5-9cd2432e3ad8>\u001b[0m in \u001b[0;36m<module>\u001b[0;34m()\u001b[0m\n\u001b[0;32m----> 1\u001b[0;31m fields = [prism.potential(xp, yp, zp, model),\n\u001b[0m\u001b[1;32m      2\u001b[0m           \u001b[0mprism\u001b[0m\u001b[1;33m.\u001b[0m\u001b[0mgx\u001b[0m\u001b[1;33m(\u001b[0m\u001b[0mxp\u001b[0m\u001b[1;33m,\u001b[0m \u001b[0myp\u001b[0m\u001b[1;33m,\u001b[0m \u001b[0mzp\u001b[0m\u001b[1;33m,\u001b[0m \u001b[0mmodel\u001b[0m\u001b[1;33m)\u001b[0m\u001b[1;33m,\u001b[0m\u001b[1;33m\u001b[0m\u001b[0m\n\u001b[1;32m      3\u001b[0m           \u001b[0mprism\u001b[0m\u001b[1;33m.\u001b[0m\u001b[0mgy\u001b[0m\u001b[1;33m(\u001b[0m\u001b[0mxp\u001b[0m\u001b[1;33m,\u001b[0m \u001b[0myp\u001b[0m\u001b[1;33m,\u001b[0m \u001b[0mzp\u001b[0m\u001b[1;33m,\u001b[0m \u001b[0mmodel\u001b[0m\u001b[1;33m)\u001b[0m\u001b[1;33m,\u001b[0m\u001b[1;33m\u001b[0m\u001b[0m\n\u001b[1;32m      4\u001b[0m           \u001b[0mprism\u001b[0m\u001b[1;33m.\u001b[0m\u001b[0mgz\u001b[0m\u001b[1;33m(\u001b[0m\u001b[0mxp\u001b[0m\u001b[1;33m,\u001b[0m \u001b[0myp\u001b[0m\u001b[1;33m,\u001b[0m \u001b[0mzp\u001b[0m\u001b[1;33m,\u001b[0m \u001b[0mmodel\u001b[0m\u001b[1;33m)\u001b[0m\u001b[1;33m,\u001b[0m\u001b[1;33m\u001b[0m\u001b[0m\n\u001b[1;32m      5\u001b[0m           \u001b[0mprism\u001b[0m\u001b[1;33m.\u001b[0m\u001b[0mgxx\u001b[0m\u001b[1;33m(\u001b[0m\u001b[0mxp\u001b[0m\u001b[1;33m,\u001b[0m \u001b[0myp\u001b[0m\u001b[1;33m,\u001b[0m \u001b[0mzp\u001b[0m\u001b[1;33m,\u001b[0m \u001b[0mmodel\u001b[0m\u001b[1;33m)\u001b[0m\u001b[1;33m,\u001b[0m\u001b[1;33m\u001b[0m\u001b[0m\n",
      "\u001b[0;32mC:\\Users\\Vanderlei\\Documents\\fatiando\\fatiando\\gravmag\\prism.py\u001b[0m in \u001b[0;36mpotential\u001b[0;34m(xp, yp, zp, prisms, dens)\u001b[0m\n\u001b[1;32m    139\u001b[0m         \u001b[0my1\u001b[0m\u001b[1;33m,\u001b[0m \u001b[0my2\u001b[0m \u001b[1;33m=\u001b[0m \u001b[0mprism\u001b[0m\u001b[1;33m.\u001b[0m\u001b[0my1\u001b[0m\u001b[1;33m,\u001b[0m \u001b[0mprism\u001b[0m\u001b[1;33m.\u001b[0m\u001b[0my2\u001b[0m\u001b[1;33m\u001b[0m\u001b[0m\n\u001b[1;32m    140\u001b[0m         \u001b[0mz1\u001b[0m\u001b[1;33m,\u001b[0m \u001b[0mz2\u001b[0m \u001b[1;33m=\u001b[0m \u001b[0mprism\u001b[0m\u001b[1;33m.\u001b[0m\u001b[0mz1\u001b[0m\u001b[1;33m,\u001b[0m \u001b[0mprism\u001b[0m\u001b[1;33m.\u001b[0m\u001b[0mz2\u001b[0m\u001b[1;33m\u001b[0m\u001b[0m\n\u001b[0;32m--> 141\u001b[0;31m         \u001b[0m_prism\u001b[0m\u001b[1;33m.\u001b[0m\u001b[0mpotential\u001b[0m\u001b[1;33m(\u001b[0m\u001b[0mxp\u001b[0m\u001b[1;33m,\u001b[0m \u001b[0myp\u001b[0m\u001b[1;33m,\u001b[0m \u001b[0mzp\u001b[0m\u001b[1;33m,\u001b[0m \u001b[0mx1\u001b[0m\u001b[1;33m,\u001b[0m \u001b[0mx2\u001b[0m\u001b[1;33m,\u001b[0m \u001b[0my1\u001b[0m\u001b[1;33m,\u001b[0m \u001b[0my2\u001b[0m\u001b[1;33m,\u001b[0m \u001b[0mz1\u001b[0m\u001b[1;33m,\u001b[0m \u001b[0mz2\u001b[0m\u001b[1;33m,\u001b[0m \u001b[0mdensity\u001b[0m\u001b[1;33m,\u001b[0m \u001b[0mres\u001b[0m\u001b[1;33m)\u001b[0m\u001b[1;33m\u001b[0m\u001b[0m\n\u001b[0m\u001b[1;32m    142\u001b[0m     \u001b[0mres\u001b[0m \u001b[1;33m*=\u001b[0m \u001b[0mG\u001b[0m\u001b[1;33m\u001b[0m\u001b[0m\n\u001b[1;32m    143\u001b[0m     \u001b[1;32mreturn\u001b[0m \u001b[0mres\u001b[0m\u001b[1;33m\u001b[0m\u001b[0m\n",
      "\u001b[0;31mAttributeError\u001b[0m: 'NoneType' object has no attribute 'potential'"
     ]
    }
   ],
   "source": [
    "fields = [prism.potential(xp, yp, zp, model),\n",
    "          prism.gx(xp, yp, zp, model),\n",
    "          prism.gy(xp, yp, zp, model),\n",
    "          prism.gz(xp, yp, zp, model),\n",
    "          prism.gxx(xp, yp, zp, model),\n",
    "          prism.gxy(xp, yp, zp, model),\n",
    "          prism.gxz(xp, yp, zp, model),\n",
    "          prism.gyy(xp, yp, zp, model),\n",
    "          prism.gyz(xp, yp, zp, model),\n",
    "          prism.gzz(xp, yp, zp, model)]"
   ]
  },
  {
   "cell_type": "code",
   "execution_count": null,
   "metadata": {
    "collapsed": false
   },
   "outputs": [],
   "source": [
    "titles = ['potential', 'gx', 'gy', 'gz',\n",
    "          'gxx', 'gxy', 'gxz', 'gyy', 'gyz', 'gzz']\n",
    "mpl.figure(figsize=(8, 9))\n",
    "mpl.subplots_adjust(left=0.03, right=0.95, bottom=0.05, top=0.92, hspace=0.3)\n",
    "mpl.suptitle(\"Potential fields produced by a 3 prism model\")\n",
    "for i, field in enumerate(fields):\n",
    "    mpl.subplot(4, 3, i + 3)\n",
    "    mpl.axis('scaled')\n",
    "    mpl.title(titles[i])\n",
    "    levels = mpl.contourf(yp * 0.001, xp * 0.001, field, shape, 15)\n",
    "    cb = mpl.colorbar()\n",
    "    mpl.contour(yp * 0.001, xp * 0.001, field, shape,\n",
    "                levels, clabel=False, linewidth=0.1)\n",
    "mpl.show()\n",
    "\n",
    "myv.figure()\n",
    "myv.prisms(model, prop='density')\n",
    "axes = myv.axes(myv.outline())\n",
    "myv.wall_bottom(axes.axes.bounds, opacity=0.2)\n",
    "myv.wall_north(axes.axes.bounds)\n",
    "myv.show()"
   ]
  },
  {
   "cell_type": "code",
   "execution_count": null,
   "metadata": {
    "collapsed": true
   },
   "outputs": [],
   "source": []
  }
 ],
 "metadata": {
  "anaconda-cloud": {},
  "kernelspec": {
   "display_name": "Python [conda root]",
   "language": "python",
   "name": "conda-root-py"
  },
  "language_info": {
   "codemirror_mode": {
    "name": "ipython",
    "version": 2
   },
   "file_extension": ".py",
   "mimetype": "text/x-python",
   "name": "python",
   "nbconvert_exporter": "python",
   "pygments_lexer": "ipython2",
   "version": "2.7.12"
  }
 },
 "nbformat": 4,
 "nbformat_minor": 1
}
