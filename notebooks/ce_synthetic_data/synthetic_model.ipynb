{
 "cells": [
  {
   "cell_type": "markdown",
   "metadata": {},
   "source": [
    "# Synthetic model"
   ]
  },
  {
   "cell_type": "markdown",
   "metadata": {},
   "source": [
    "### Brief description"
   ]
  },
  {
   "cell_type": "markdown",
   "metadata": {},
   "source": [
    "This Jupyter notebook is a supplementary material contaning the code needed to generate part of the synthetic data and reproduce part of the figures and results of this course. This code uses the open-source Python toolkit for geophysical modeling and inversion [Fatiando a Terra](http://www.fatiando.org/index.html).\n",
    "\n",
    "This code creates the simulated bodies used in the numerical applications."
   ]
  },
  {
   "cell_type": "markdown",
   "metadata": {},
   "source": [
    "**Note:** A Jupyter notebook is a document that incorporates text, results, figures, and the Python source code to produce them. If you are viewing this from the URL https://nbviewer.jupyter.org/, the document will be static (not executable). To run the code, you will need to download the notebook and install all the required dependencies. For installing the Fatiando a Terra and all the required dependencies, please follow the instructions shown in http://www.fatiando.org/install.html."
   ]
  },
  {
   "cell_type": "markdown",
   "metadata": {},
   "source": [
    "### Import the required dependencies"
   ]
  },
  {
   "cell_type": "code",
   "execution_count": 1,
   "metadata": {
    "collapsed": false
   },
   "outputs": [],
   "source": [
    "%matplotlib inline\n",
    "\n",
    "import numpy as np\n",
    "import matplotlib.pyplot as plt\n",
    "import cPickle as pickle\n",
    "import datetime\n",
    "from IPython.display import Image as img\n",
    "from IPython.display import Markdown as md\n",
    "from IPython.display import display as dp\n",
    "import string as st\n",
    "\n",
    "from __future__ import division\n",
    "\n",
    "import auxiliary_functions as af\n",
    "\n",
    "import fatiando\n",
    "from fatiando import gridder\n",
    "from fatiando.mesher import Prism\n",
    "from fatiando.gridder import regular\n",
    "from fatiando.gravmag import prism\n",
    "from fatiando.vis import myv\n",
    "from fatiando.utils import ang2vec, contaminate\n",
    "from fatiando.constants import G\n",
    "\n",
    "plt.rc('font', size=14)"
   ]
  },
  {
   "cell_type": "code",
   "execution_count": 2,
   "metadata": {
    "collapsed": false
   },
   "outputs": [],
   "source": [
    "notebook_name = 'synthetic_model.ipynb'"
   ]
  },
  {
   "cell_type": "code",
   "execution_count": 3,
   "metadata": {
    "collapsed": false
   },
   "outputs": [
    {
     "name": "stdout",
     "output_type": "stream",
     "text": [
      "Version of Fatiando a Terra used: unknown\n"
     ]
    }
   ],
   "source": [
    "print(\"Version of Fatiando a Terra used: {}\".format(fatiando.__version__))"
   ]
  },
  {
   "cell_type": "code",
   "execution_count": 4,
   "metadata": {
    "collapsed": true
   },
   "outputs": [],
   "source": [
    "saved_files = [] #list of saved files"
   ]
  },
  {
   "cell_type": "markdown",
   "metadata": {},
   "source": [
    "### Synthetic model formed by two rectangular prisms"
   ]
  },
  {
   "cell_type": "markdown",
   "metadata": {},
   "source": [
    "#### Create the model"
   ]
  },
  {
   "cell_type": "code",
   "execution_count": 5,
   "metadata": {
    "collapsed": true
   },
   "outputs": [],
   "source": [
    "rho1 = 1000.   # density of the smaller prism\n",
    "m1 = 10.       # magnetization intensity of the smaller prism\n",
    "rho2 = 1000.  # density of the greater prism\n",
    "m2 = 10.       # magnetization intensity of the greater prism\n",
    "incs = 30.     # magnetization inclination of the sources\n",
    "decs = -10.0   # magnetization declination of the sources\n",
    "\n",
    "# Cartesian components of the unitary vector with the\n",
    "# same direction as the magnetization of the sources\n",
    "mx, my, mz = ang2vec(1.0, incs, decs)"
   ]
  },
  {
   "cell_type": "code",
   "execution_count": 6,
   "metadata": {
    "collapsed": true
   },
   "outputs": [],
   "source": [
    "full_model = dict() #empty dictionary"
   ]
  },
  {
   "cell_type": "code",
   "execution_count": 7,
   "metadata": {
    "collapsed": true
   },
   "outputs": [],
   "source": [
    "#Local-geomagnetic field (inclination and declination in degress)\n",
    "full_model['geomag_field'] = (6., -40.5)"
   ]
  },
  {
   "cell_type": "code",
   "execution_count": 8,
   "metadata": {
    "collapsed": true
   },
   "outputs": [],
   "source": [
    "#Create a model composed of two elements of the class fatiado.mesher.Prism\n",
    "full_model['model'] = [Prism(16000, 18000, 15000, 17000, 50, 2000, \n",
    "                       props={'density':rho1, 'magnetization': ang2vec(m1,incs,decs)}),\n",
    "                       Prism(13000, 15000, 16000, 22000, 100, 2100, \n",
    "                       props={'density':rho2, 'magnetization': ang2vec(m2,incs,decs)})]"
   ]
  },
  {
   "cell_type": "code",
   "execution_count": 9,
   "metadata": {
    "collapsed": false
   },
   "outputs": [],
   "source": [
    "#horizontal projection of the model\n",
    "full_model['projection'] = []\n",
    "for i, p in enumerate(full_model['model']):\n",
    "    full_model['projection'].append(p.get_bounds()[:4])"
   ]
  },
  {
   "cell_type": "code",
   "execution_count": 10,
   "metadata": {
    "collapsed": true
   },
   "outputs": [],
   "source": [
    "#auxiliary informations about the model\n",
    "now = datetime.datetime.utcnow().strftime('%d %B %Y %H:%M:%S UTC')\n",
    "full_model['metadata'] = 'Generated by {name} on {date}'.format(date=now, name=notebook_name)"
   ]
  },
  {
   "cell_type": "markdown",
   "metadata": {},
   "source": [
    "#### Save the model"
   ]
  },
  {
   "cell_type": "code",
   "execution_count": 12,
   "metadata": {
    "collapsed": false
   },
   "outputs": [],
   "source": [
    "#save the model by using the Python pickle module (https://docs.python.org/2/library/pickle.html)\n",
    "file_name = 'results\\\\model.pickle'\n",
    "with open(file_name, 'w') as f:\n",
    "    pickle.dump(full_model, f)\n",
    "    \n",
    "saved_files.append(file_name)"
   ]
  },
  {
   "cell_type": "markdown",
   "metadata": {},
   "source": [
    "#### Create a vertically magnetized model"
   ]
  },
  {
   "cell_type": "code",
   "execution_count": 13,
   "metadata": {
    "collapsed": true
   },
   "outputs": [],
   "source": [
    "full_model_pole = dict() #empty dictionary"
   ]
  },
  {
   "cell_type": "code",
   "execution_count": 14,
   "metadata": {
    "collapsed": false
   },
   "outputs": [],
   "source": [
    "#Local-geomagnetic field (inclination and declination in degress)\n",
    "full_model_pole['geomag_field'] = (90., 0.)"
   ]
  },
  {
   "cell_type": "code",
   "execution_count": 15,
   "metadata": {
    "collapsed": false
   },
   "outputs": [],
   "source": [
    "#Create a model composed of two elements of the class fatiado.mesher.Prism\n",
    "full_model_pole['model'] = [Prism(16000, 18000, 15000, 17000, 50, 2000, \n",
    "                               props={'density':rho1, 'magnetization': ang2vec(m1,90.,0.)}),\n",
    "                            Prism(13000, 15000, 16000, 22000, 100, 2100, \n",
    "                               props={'density':rho2, 'magnetization': ang2vec(m2,90.,0.)})]"
   ]
  },
  {
   "cell_type": "code",
   "execution_count": 16,
   "metadata": {
    "collapsed": true
   },
   "outputs": [],
   "source": [
    "#horizontal projection of the model\n",
    "full_model_pole['projection'] = []\n",
    "for i, p in enumerate(full_model_pole['model']):\n",
    "    full_model_pole['projection'].append(p.get_bounds()[:4])"
   ]
  },
  {
   "cell_type": "code",
   "execution_count": 17,
   "metadata": {
    "collapsed": true
   },
   "outputs": [],
   "source": [
    "#auxiliary informations about the model\n",
    "now = datetime.datetime.utcnow().strftime('%d %B %Y %H:%M:%S UTC')\n",
    "full_model_pole['metadata'] = 'Generated by {name} on {date}'.format(date=now, name=notebook_name)"
   ]
  },
  {
   "cell_type": "markdown",
   "metadata": {},
   "source": [
    "#### Save the vertically magnetized model"
   ]
  },
  {
   "cell_type": "code",
   "execution_count": 18,
   "metadata": {
    "collapsed": true
   },
   "outputs": [],
   "source": [
    "#save the model by using the Python pickle module (https://docs.python.org/2/library/pickle.html)\n",
    "file_name = 'results\\\\model_pole.pickle'\n",
    "with open(file_name, 'w') as f:\n",
    "    pickle.dump(full_model_pole, f)\n",
    "saved_files.append(file_name)"
   ]
  },
  {
   "cell_type": "markdown",
   "metadata": {},
   "source": [
    "#### 3D plot of the model"
   ]
  },
  {
   "cell_type": "code",
   "execution_count": 19,
   "metadata": {
    "collapsed": false,
    "scrolled": true
   },
   "outputs": [],
   "source": [
    "bounds = [11000, 20000, 13000, 24000, 0, 3000]\n",
    "scene = myv.figure(size=(12000., 8000.))\n",
    "myv.prisms(full_model['model'], color=(0.5, 0.5, 0.5), linewidth=1)\n",
    "ax = myv.axes(myv.outline(extent=bounds), ranges=[b*0.001 for b in bounds], nlabels=3, fmt='%.1f')\n",
    "ax.axes.x_label, ax.axes.y_label, ax.axes.z_label = 'x (km)', 'y (km)', 'z (km)'\n",
    "ax.axes.font_factor = 1.1\n",
    "myv.wall_north(bounds)\n",
    "myv.wall_bottom(bounds)\n",
    "\n",
    "scene.scene.camera.position = [-3636.7651215354613, 10743.121645670348, -8829.4824339882798]\n",
    "scene.scene.camera.focal_point = [15499.999999999745, 18499.999999999778, 1499.9999999999959]\n",
    "scene.scene.camera.view_angle = 30.0\n",
    "scene.scene.camera.view_up = [0.41366230359938, 0.17041624454596982, -0.89433875135526963]\n",
    "scene.scene.camera.clipping_range = [10422.897651780093, 39087.786072184674]\n",
    "scene.scene.camera.compute_view_plane_normal()\n",
    "scene.scene.render()\n",
    "\n",
    "file_name = 'figs\\\\Fig3'\n",
    "\n",
    "myv.savefig(file_name+'.png')\n",
    "\n",
    "saved_files.append(file_name+'.png')\n",
    "\n",
    "myv.show()"
   ]
  },
  {
   "cell_type": "code",
   "execution_count": 20,
   "metadata": {
    "collapsed": false
   },
   "outputs": [],
   "source": [
    "caption = \"Synthetic bodies with constant density $\\\\rho$ = %.1f kg/m$^{3}$ and constant magnetization vector \\\n",
    "with intensity $m$ = %.1f A/m, \\\n",
    "inclination %.1f$^{\\circ}$ and declination %.1f$^{\\circ}$. The geomagnetic field has %.1f$^{\\circ}$ \\\n",
    "inclination and %.1f$^{\\circ}$ \\\n",
    "declination.\" % (rho1, m1, incs, decs, full_model['geomag_field'][0], full_model['geomag_field'][1])"
   ]
  },
  {
   "cell_type": "code",
   "execution_count": 21,
   "metadata": {
    "collapsed": false
   },
   "outputs": [
    {
     "data": {
      "text/markdown": [
       "Synthetic bodies with constant density $\\rho$ = 1000.0 kg/m$^{3}$ and constant magnetization vector with intensity $m$ = 10.0 A/m, inclination 30.0$^{\\circ}$ and declination -10.0$^{\\circ}$. The geomagnetic field has 6.0$^{\\circ}$ inclination and -40.5$^{\\circ}$ declination."
      ],
      "text/plain": [
       "<IPython.core.display.Markdown object>"
      ]
     },
     "metadata": {},
     "output_type": "display_data"
    }
   ],
   "source": [
    "dp(md(caption))"
   ]
  },
  {
   "cell_type": "markdown",
   "metadata": {},
   "source": [
    "### Saved files"
   ]
  },
  {
   "cell_type": "code",
   "execution_count": 22,
   "metadata": {
    "collapsed": false
   },
   "outputs": [
    {
     "name": "stdout",
     "output_type": "stream",
     "text": [
      "1  results\\model.pickle\n",
      "2  results\\model_pole.pickle\n",
      "3  figs\\Fig3.png\n"
     ]
    }
   ],
   "source": [
    "with open('reports\\\\report_%s.md' % notebook_name[:st.index(notebook_name, '.')], 'w') as f:\n",
    "    f.write('# Saved files \\n')\n",
    "    now = datetime.datetime.utcnow().strftime('%d %B %Y %H:%M:%S UTC')\n",
    "    header = 'Generated by {name} on {date}'.format(date=now, name=notebook_name)\n",
    "    f.write('\\n\\n'+header+'\\n\\n')\n",
    "    for i, sf in enumerate(saved_files):\n",
    "        print '%d  %s' % (i+1,sf)\n",
    "        f.write('*  `%s` \\n' % (sf))"
   ]
  },
  {
   "cell_type": "code",
   "execution_count": null,
   "metadata": {
    "collapsed": true
   },
   "outputs": [],
   "source": []
  }
 ],
 "metadata": {
  "anaconda-cloud": {},
  "kernelspec": {
   "display_name": "Python [default]",
   "language": "python",
   "name": "python2"
  },
  "language_info": {
   "codemirror_mode": {
    "name": "ipython",
    "version": 2
   },
   "file_extension": ".py",
   "mimetype": "text/x-python",
   "name": "python",
   "nbconvert_exporter": "python",
   "pygments_lexer": "ipython2",
   "version": "2.7.10"
  }
 },
 "nbformat": 4,
 "nbformat_minor": 0
}
