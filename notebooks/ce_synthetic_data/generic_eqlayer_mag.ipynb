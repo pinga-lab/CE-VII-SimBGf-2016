{
 "cells": [
  {
   "cell_type": "markdown",
   "metadata": {},
   "source": [
    "# Generic equivalent layer applied to magnetic data"
   ]
  },
  {
   "cell_type": "markdown",
   "metadata": {},
   "source": [
    "### Brief description"
   ]
  },
  {
   "cell_type": "markdown",
   "metadata": {},
   "source": [
    "This Jupyter notebook is a supplementary material contaning the code needed to generate part of the synthetic data and reproduce part of the figures and results of this course. This code uses the open-source Python toolkit for geophysical modeling and inversion [Fatiando a Terra](http://www.fatiando.org/index.html).\n",
    "\n",
    "This code presents the application of an undulating equivalent layer formed by point masses with the purpose of processing total-field anomaly data. The estimated equivalent layer is saved as a pickle file in `results`."
   ]
  },
  {
   "cell_type": "markdown",
   "metadata": {},
   "source": [
    "**Note:** A Jupyter notebook is a document that incorporates text, results, figures, and the Python source code to produce them. If you are viewing this from the URL https://nbviewer.jupyter.org/, the document will be static (not executable). To run the code, you will need to download the notebook and install all the required dependencies. For installing the Fatiando a Terra and all the required dependencies, please follow the instructions shown in http://www.fatiando.org/install.html."
   ]
  },
  {
   "cell_type": "markdown",
   "metadata": {},
   "source": [
    "### Import the required dependencies"
   ]
  },
  {
   "cell_type": "code",
   "execution_count": 1,
   "metadata": {
    "collapsed": true
   },
   "outputs": [],
   "source": [
    "%matplotlib inline\n",
    "import numpy as np\n",
    "from matplotlib import pyplot as plt\n",
    "import cPickle as pickle\n",
    "import datetime\n",
    "from IPython.display import Markdown as md\n",
    "from IPython.display import display as dp\n",
    "import string as st\n",
    "\n",
    "from __future__ import division\n",
    "from future.builtins import super\n",
    "\n",
    "import auxiliary_functions as af\n",
    "\n",
    "from fatiando import gridder\n",
    "from fatiando.mesher import Prism, PointGrid\n",
    "from fatiando.gridder import regular\n",
    "\n",
    "#from fatiando.gravmag import prism, sphere\n",
    "from fatiando.gravmag import _prism_numpy as prism\n",
    "from fatiando.gravmag import _sphere_numpy as sphere\n",
    "\n",
    "#from fatiando.gravmag.eqlayer import EQLGravity\n",
    "from fatiando.gravmag._eqlayer_numpy import EQLGravity\n",
    "\n",
    "from fatiando.inversion.regularization import Damping, Smoothness2D\n",
    "from fatiando.inversion.hyper_param import LCurve\n",
    "from fatiando.vis import mpl, myv\n",
    "from fatiando.utils import ang2vec, vec2ang, contaminate\n",
    "from fatiando.constants import G, SI2MGAL, SI2EOTVOS"
   ]
  },
  {
   "cell_type": "code",
   "execution_count": 2,
   "metadata": {
    "collapsed": false
   },
   "outputs": [],
   "source": [
    "plt.rcParams['font.size'] = 6\n",
    "plt.rcParams['axes.labelsize'] = 8\n",
    "plt.rcParams['xtick.labelsize'] = 6\n",
    "plt.rcParams['ytick.labelsize'] = 6\n",
    "plt.rcParams['legend.fontsize'] = 6\n",
    "plt.rcParams['xtick.major.pad'] = 3\n",
    "plt.rcParams['ytick.major.pad'] = 3"
   ]
  },
  {
   "cell_type": "code",
   "execution_count": 3,
   "metadata": {
    "collapsed": true
   },
   "outputs": [],
   "source": [
    "notebook_name = 'generic_eqlayer_mag.ipynb'"
   ]
  },
  {
   "cell_type": "code",
   "execution_count": 4,
   "metadata": {
    "collapsed": true
   },
   "outputs": [],
   "source": [
    "saved_files = [] #list of saved files"
   ]
  },
  {
   "cell_type": "markdown",
   "metadata": {},
   "source": [
    "### Load the synthetic model formed by two rectangular prisms"
   ]
  },
  {
   "cell_type": "code",
   "execution_count": 5,
   "metadata": {
    "collapsed": false
   },
   "outputs": [],
   "source": [
    "with open('results\\\\model.pickle') as f:\n",
    "        full_model = pickle.load(f)"
   ]
  },
  {
   "cell_type": "code",
   "execution_count": 6,
   "metadata": {
    "collapsed": true
   },
   "outputs": [],
   "source": [
    "inc, dec = full_model['geomag_field']"
   ]
  },
  {
   "cell_type": "code",
   "execution_count": 7,
   "metadata": {
    "collapsed": false
   },
   "outputs": [],
   "source": [
    "ints, incs, decs = vec2ang(full_model['model'][0].props['magnetization'])"
   ]
  },
  {
   "cell_type": "code",
   "execution_count": 8,
   "metadata": {
    "collapsed": true
   },
   "outputs": [],
   "source": [
    "rhos = full_model['model'][0].props['density']"
   ]
  },
  {
   "cell_type": "markdown",
   "metadata": {
    "collapsed": false
   },
   "source": [
    "### Load the grid of points"
   ]
  },
  {
   "cell_type": "code",
   "execution_count": 9,
   "metadata": {
    "collapsed": true
   },
   "outputs": [],
   "source": [
    "with open('results\\\\airborne_survey.pickle') as f:\n",
    "        grid = pickle.load(f)"
   ]
  },
  {
   "cell_type": "code",
   "execution_count": 10,
   "metadata": {
    "collapsed": false
   },
   "outputs": [
    {
     "data": {
      "text/plain": [
       "{'DS': 260793.97276151844,\n",
       " 'N': 3600,\n",
       " 'area': [0, 30000, 5000, 35000],\n",
       " 'metadata': 'Generated by computation_points.ipynb on 24 October 2016 01:15:20 UTC',\n",
       " 'shape': (120, 30),\n",
       " 'spacing': [252.10084033613447, 1034.4827586206898]}"
      ]
     },
     "execution_count": 10,
     "metadata": {},
     "output_type": "execute_result"
    }
   ],
   "source": [
    "grid"
   ]
  },
  {
   "cell_type": "markdown",
   "metadata": {},
   "source": [
    "### Define the coordinates on the observation surface"
   ]
  },
  {
   "cell_type": "code",
   "execution_count": 11,
   "metadata": {
    "collapsed": false
   },
   "outputs": [],
   "source": [
    "#coordinates x and y of the data\n",
    "xp, yp = regular(grid['area'], grid['shape'])\n",
    "\n",
    "#vertical coordinates of the data\n",
    "zp = af.observation_surface(xp,yp)"
   ]
  },
  {
   "cell_type": "markdown",
   "metadata": {},
   "source": [
    "### Observed total-field anomaly"
   ]
  },
  {
   "cell_type": "markdown",
   "metadata": {},
   "source": [
    "Total-field anomaly (equation 8) produced by the synthetic prisms (Figure 3) at the `airborne_survey` points on the undulating surface (Figure 4a). This anomaly is contaminated with a pseudo-random Gaussian noise having null mean and standard deviation equal to $5$ nT."
   ]
  },
  {
   "cell_type": "code",
   "execution_count": 12,
   "metadata": {
    "collapsed": true
   },
   "outputs": [],
   "source": [
    "tf_noise = 5."
   ]
  },
  {
   "cell_type": "code",
   "execution_count": 13,
   "metadata": {
    "collapsed": false
   },
   "outputs": [],
   "source": [
    "tf = contaminate(prism.tf(xp,yp,zp,full_model['model'], inc, dec), tf_noise, seed=47)"
   ]
  },
  {
   "cell_type": "markdown",
   "metadata": {},
   "source": [
    "### True total gradient amplitude"
   ]
  },
  {
   "cell_type": "markdown",
   "metadata": {},
   "source": [
    "Noise-free total-gradient amplitude produced by the synthetic prisms (Figure 3) at the `airborne_survey` points on the undulating surface (Figure 4a). The total-field amplitude was calculated by using equation 8 and a central finite difference approximation with constant spacing `delta`."
   ]
  },
  {
   "cell_type": "code",
   "execution_count": 14,
   "metadata": {
    "collapsed": true
   },
   "outputs": [],
   "source": [
    "delta = 5."
   ]
  },
  {
   "cell_type": "code",
   "execution_count": 15,
   "metadata": {
    "collapsed": false
   },
   "outputs": [],
   "source": [
    "dxtf = (prism.tf(xp+delta,yp,zp,full_model['model'],inc,dec) - \\\n",
    "        prism.tf(xp-delta,yp,zp,full_model['model'],inc,dec))/(2.*delta)\n",
    "\n",
    "dytf = (prism.tf(xp,yp+delta,zp,full_model['model'],inc,dec) - \\\n",
    "        prism.tf(xp,yp-delta,zp,full_model['model'],inc,dec))/(2.*delta)\n",
    "\n",
    "dztf = (prism.tf(xp,yp,zp+delta,full_model['model'],inc,dec) - \\\n",
    "        prism.tf(xp,yp,zp-delta,full_model['model'],inc,dec))/(2.*delta)"
   ]
  },
  {
   "cell_type": "code",
   "execution_count": 16,
   "metadata": {
    "collapsed": true
   },
   "outputs": [],
   "source": [
    "tga = np.sqrt(dxtf**2. + dytf**2. + dztf**2.)"
   ]
  },
  {
   "cell_type": "markdown",
   "metadata": {},
   "source": [
    "### Undulating equivalent layer"
   ]
  },
  {
   "cell_type": "markdown",
   "metadata": {},
   "source": [
    "#### Parameters defining the equivalent layer"
   ]
  },
  {
   "cell_type": "code",
   "execution_count": 17,
   "metadata": {
    "collapsed": false
   },
   "outputs": [],
   "source": [
    "#undulating surface containing the equivalent sources\n",
    "\n",
    "h = 1200.\n",
    "z0 = zp + h"
   ]
  },
  {
   "cell_type": "code",
   "execution_count": 18,
   "metadata": {
    "collapsed": false
   },
   "outputs": [
    {
     "data": {
      "image/png": "[encoded data removed]",
      "text/plain": [
       "<matplotlib.figure.Figure at 0x7e69358>"
      ]
     },
     "metadata": {},
     "output_type": "display_data"
    }
   ],
   "source": [
    "file_name = 'figs\\\\Fig10'\n",
    "\n",
    "nplots = 2\n",
    "\n",
    "f, (ax1, ax2) = plt.subplots(nplots,figsize=(3.33333,nplots*2.66667))\n",
    "\n",
    "af.multiplotmap(ax1, xp, yp, zp, grid['shape'], grid['area'],\n",
    "                color_scheme = 'Greys_r', prism_projection = True, projection_style = '-w', \n",
    "                model = full_model['projection'], unit = 'm',\n",
    "                figure_label = '(a)', label_x = False,\n",
    "                observations=True, point_style='.k', point_size=1)\n",
    "\n",
    "af.multiplotmap(ax2, xp, yp, z0, grid['shape'], grid['area'],\n",
    "                color_scheme = 'Greys_r', prism_projection = True, projection_style = '-w', \n",
    "                model = full_model['projection'], unit = 'm', \n",
    "                figure_label = '(b)')\n",
    "\n",
    "plt.savefig(file_name+'.png', dpi=600)\n",
    "saved_files.append(file_name+'.png')\n",
    "\n",
    "plt.show()"
   ]
  },
  {
   "cell_type": "code",
   "execution_count": 19,
   "metadata": {
    "collapsed": true
   },
   "outputs": [],
   "source": [
    "caption = \"(a) Undulating observation surface where we calculate the total-field anomaly (Figure 11a) and the total-gradient \\\n",
    "amplitude (Figure 11d) produced by the simulated prisms (Figure 3). These magnetic data are calculated at a regular \\\n",
    "grid of %d $\\\\times$ %d points (black dots) in the $x$ and $y$ directions. \\\n",
    "(b) Undulating surface (grayscale) defining an uneven equivalent layer. \\\n",
    "The white rectangles represent the horizontal projection of the simulated prisms \\\n",
    "(Figure 3).\" \\\n",
    "% (grid['shape'][0], grid['shape'][1])"
   ]
  },
  {
   "cell_type": "code",
   "execution_count": 20,
   "metadata": {
    "collapsed": false
   },
   "outputs": [
    {
     "data": {
      "text/markdown": [
       "(a) Undulating observation surface where we calculate the total-field anomaly (Figure 11a) and the total-gradient amplitude (Figure 11d) produced by the simulated prisms (Figure 3). These magnetic data are calculated at a regular grid of 120 $\\times$ 30 points (black dots) in the $x$ and $y$ directions. (b) Undulating surface (grayscale) defining an uneven equivalent layer. The white rectangles represent the horizontal projection of the simulated prisms (Figure 3)."
      ],
      "text/plain": [
       "<IPython.core.display.Markdown object>"
      ]
     },
     "metadata": {},
     "output_type": "display_data"
    }
   ],
   "source": [
    "dp(md(caption))"
   ]
  },
  {
   "cell_type": "markdown",
   "metadata": {},
   "source": [
    "#### Estimated physical-property distribution"
   ]
  },
  {
   "cell_type": "markdown",
   "metadata": {},
   "source": [
    "Linear inverse problem for estimating the physical property distribution within the equivalent layer. A previously estimated equivalent layer may be saved at the directory `results` as a pickle file named `inversion_notebookname.pickle`. Execute the cell below to check if this file exists. If this file does not exist, an IOError will be raised. In this case, you will need to run the inversion. To do this, you need first transform the following 17 cells from `Raw NBConvert` to `Code` and execute them."
   ]
  },
  {
   "cell_type": "code",
   "execution_count": 21,
   "metadata": {
    "collapsed": false
   },
   "outputs": [
    {
     "name": "stdout",
     "output_type": "stream",
     "text": [
      "Generated by generic_eqlayer_mag.ipynb on 25 May 2016 22:00:02 UTC\n"
     ]
    }
   ],
   "source": [
    "file_name = 'results\\\\inversion_%s.pickle' % notebook_name[:st.index(notebook_name,'.')]\n",
    "with open(file_name) as f:\n",
    "    inversion = pickle.load(f)\n",
    "\n",
    "layer = inversion['layer']\n",
    "predicted = inversion['predicted']\n",
    "estimate = inversion['estimate']\n",
    "\n",
    "residuals = predicted - tf\n",
    "\n",
    "print inversion['metadata']"
   ]
  },
  {
   "cell_type": "raw",
   "metadata": {
    "collapsed": false
   },
   "source": [
    "#equivalent layer\n",
    "layer = PointGrid(grid['area'], z0, grid['shape'])"
   ]
  },
  {
   "cell_type": "raw",
   "metadata": {
    "collapsed": true
   },
   "source": [
    "# misfit function\n",
    "misfit = EQLGravity(xp, yp, zp, tf, layer)"
   ]
  },
  {
   "cell_type": "raw",
   "metadata": {
    "collapsed": false
   },
   "source": [
    "# normalizing factor\n",
    "f0 = np.trace(misfit.hessian(None))/misfit.nparams"
   ]
  },
  {
   "cell_type": "raw",
   "metadata": {
    "collapsed": false
   },
   "source": [
    "print 'f0 = %10.3e' % f0"
   ]
  },
  {
   "cell_type": "raw",
   "metadata": {
    "collapsed": true
   },
   "source": [
    "# Tikhonov regularization\n",
    "#regul = Damping(layer.size)\n",
    "regul = Smoothness2D(layer.shape)"
   ]
  },
  {
   "cell_type": "raw",
   "metadata": {
    "collapsed": true
   },
   "source": [
    "# Use the L-curve to find the best regularization parameter\n",
    "solver = LCurve(misfit, regul, [f0*(10.**i) for i in range(-10, -1)]).fit()"
   ]
  },
  {
   "cell_type": "raw",
   "metadata": {
    "collapsed": false
   },
   "source": [
    "print 'u0 = %10.3e' % ((1./f0)*solver.regul_param_)"
   ]
  },
  {
   "cell_type": "raw",
   "metadata": {
    "collapsed": true
   },
   "source": [
    "layer.addprop('density', solver.estimate_)"
   ]
  },
  {
   "cell_type": "raw",
   "metadata": {},
   "source": [
    "predicted = solver[0].predicted()"
   ]
  },
  {
   "cell_type": "raw",
   "metadata": {},
   "source": [
    "estimate = solver.estimate_"
   ]
  },
  {
   "cell_type": "raw",
   "metadata": {},
   "source": [
    "residuals = solver[0].residuals()"
   ]
  },
  {
   "cell_type": "markdown",
   "metadata": {},
   "source": [
    "#### Save the results"
   ]
  },
  {
   "cell_type": "raw",
   "metadata": {
    "collapsed": true
   },
   "source": [
    "inversion = dict() #empty dictionary"
   ]
  },
  {
   "cell_type": "raw",
   "metadata": {
    "collapsed": true
   },
   "source": [
    "now = datetime.datetime.utcnow().strftime('%d %B %Y %H:%M:%S UTC')\n",
    "inversion['metadata'] = 'Generated by {name} on {date}'.format(date=now, name=notebook_name)"
   ]
  },
  {
   "cell_type": "raw",
   "metadata": {
    "collapsed": true
   },
   "source": [
    "inversion['layer'] = layer"
   ]
  },
  {
   "cell_type": "raw",
   "metadata": {
    "collapsed": true
   },
   "source": [
    "inversion['predicted'] = solver[0].predicted()"
   ]
  },
  {
   "cell_type": "raw",
   "metadata": {
    "collapsed": true
   },
   "source": [
    "inversion['estimate'] = solver.estimate_"
   ]
  },
  {
   "cell_type": "raw",
   "metadata": {
    "collapsed": true
   },
   "source": [
    "#save the inversion results by using the Python pickle module (https://docs.python.org/2/library/pickle.html)\n",
    "file_name = 'results\\\\inversion_%s.pickle' % notebook_name[:st.index(notebook_name,'.')]\n",
    "with open(file_name, 'w') as f:\n",
    "    pickle.dump(inversion, f)\n",
    "saved_files.append(file_name)"
   ]
  },
  {
   "cell_type": "markdown",
   "metadata": {},
   "source": [
    "#### Data fit"
   ]
  },
  {
   "cell_type": "markdown",
   "metadata": {},
   "source": [
    "#### Comparison between the true and predicted total-gradient amplitude"
   ]
  },
  {
   "cell_type": "code",
   "execution_count": 22,
   "metadata": {
    "collapsed": false
   },
   "outputs": [],
   "source": [
    "# horizontal derivatives\n",
    "aux = SI2MGAL/SI2EOTVOS\n",
    "dxtf_pred = sphere.gxz(xp, yp, zp, layer)*aux\n",
    "dytf_pred = sphere.gyz(xp, yp, zp, layer)*aux\n",
    "dztf_pred = sphere.gzz(xp, yp, zp, layer)*aux"
   ]
  },
  {
   "cell_type": "code",
   "execution_count": 23,
   "metadata": {
    "collapsed": true
   },
   "outputs": [],
   "source": [
    "# predicted total-gradient amplitude\n",
    "tga_pred = np.sqrt(dxtf_pred**2. + dytf_pred**2. + dztf_pred**2.)"
   ]
  },
  {
   "cell_type": "code",
   "execution_count": 24,
   "metadata": {
    "collapsed": false
   },
   "outputs": [
    {
     "data": {
      "image/png": "[encoded data removed]",
      "text/plain": [
       "<matplotlib.figure.Figure at 0x8353278>"
      ]
     },
     "metadata": {},
     "output_type": "display_data"
    }
   ],
   "source": [
    "file_name = 'figs\\\\Fig11'\n",
    "\n",
    "f, ax = plt.subplots(3,2,figsize=(4.33333,2*2.66667))\n",
    "\n",
    "af.multiplotmap(ax[0][0], xp, yp, tf, grid['shape'], grid['area'], \n",
    "                color_scheme = 'Greys',\n",
    "                prism_projection = True, projection_style = '-k', \n",
    "                model = full_model['projection'], ranges = af.scale_bounds(tf, div=True),\n",
    "                figure_label = '(a)', label_position = (0.02,0.89), label_x = False)\n",
    "\n",
    "af.multiplotmap(ax[1][0], xp, yp, predicted, grid['shape'], grid['area'], \n",
    "                color_scheme = 'Greys',\n",
    "                prism_projection = True, projection_style = '-k', \n",
    "                model = full_model['projection'], ranges = af.scale_bounds(tf, div=True),\n",
    "                figure_label = '(b)', label_position = (0.02,0.89), label_x = False)\n",
    "\n",
    "af.multiplothist(ax[2][0], residuals, text_position = [0.52, 0.92, 0.84, 0.07],\n",
    "                 text_fontsize = 7,\n",
    "                 figure_label = '(c)', label_position = (0.02,0.89))\n",
    "\n",
    "af.multiplotmap(ax[0][1], xp, yp, tga, grid['shape'], grid['area'], \n",
    "                color_scheme = 'Greys',\n",
    "                prism_projection = True, projection_style = '-k', \n",
    "                model = full_model['projection'], \n",
    "                figure_label = '(d)', label_position = (0.02,0.89), label_x = False, label_y = False)\n",
    "\n",
    "af.multiplotmap(ax[1][1], xp, yp, tga_pred, grid['shape'], grid['area'], \n",
    "                color_scheme = 'Greys',\n",
    "                prism_projection = True, projection_style = '-k', \n",
    "                model = full_model['projection'], \n",
    "                figure_label = '(e)', label_position = (0.02,0.89), label_x = False, label_y = False)\n",
    "\n",
    "af.multiplotmap(ax[2][1], xp, yp, tga_pred - tga, grid['shape'], grid['area'],\n",
    "                color_scheme = 'Greys',\n",
    "                prism_projection = True, projection_style = '-k', \n",
    "                model = full_model['projection'],\n",
    "                figure_label = '(f)', label_color = 'w',\n",
    "                label_position = (0.02,0.89))\n",
    "\n",
    "plt.tight_layout()\n",
    "\n",
    "plt.savefig(file_name+'.png', dpi=600)\n",
    "saved_files.append(file_name+'.png')\n",
    "\n",
    "plt.show()"
   ]
  },
  {
   "cell_type": "code",
   "execution_count": 25,
   "metadata": {
    "collapsed": true
   },
   "outputs": [],
   "source": [
    "caption = \"(a) Total-field anomaly produced by the simulated prisms (Figure 3) and contaminated with a Gaussian \\\n",
    "noise having null mean and standard deviation equal to %.1f nT. \\\n",
    "(b) Total-field anomaly produced by the equivalent layer defined on the undulating surface shown in Figure 10b. \\\n",
    "Both data are given in nT. \\\n",
    "(c) Histogram of the residuals defined as the difference \\\n",
    "between the total-field anomalies shown in b and a. The black-dashed line represent \\\n",
    "a best fit Gaussian curve. The estimated mean and standard deviation are represented by $\\mu$ and $\\sigma$, \\\n",
    "respectively. \\\n",
    "(d) True total-gradient amplitude (noise-free) produced by the simulated prisms (Figure 3). \\\n",
    "(e) Total-gradient amplitude produced by the equivalent layer defined on the uneven surface \\\n",
    "shown in Figure 10b. Both data are given in nT/m. \\\n",
    "(f) Difference between the total-gradient amplitudes shown in e and d. \\\n",
    "All data are calculated at a regular grid of $%d \\\\times %d$ points represented as black dots in Figure 10a. \\\n",
    "The black rectangles represent the horizontal projection of the simulated \\\n",
    "prisms (Figure 3).\" \\\n",
    "% (tf_noise, grid['shape'][0], grid['shape'][1])"
   ]
  },
  {
   "cell_type": "code",
   "execution_count": 26,
   "metadata": {
    "collapsed": false
   },
   "outputs": [
    {
     "data": {
      "text/markdown": [
       "(a) Total-field anomaly produced by the simulated prisms (Figure 3) and contaminated with a Gaussian noise having null mean and standard deviation equal to 5.0 nT. (b) Total-field anomaly produced by the equivalent layer defined on the undulating surface shown in Figure 10b. Both data are given in nT. (c) Histogram of the residuals defined as the difference between the total-field anomalies shown in b and a. The black-dashed line represent a best fit Gaussian curve. The estimated mean and standard deviation are represented by $\\mu$ and $\\sigma$, respectively. (d) True total-gradient amplitude (noise-free) produced by the simulated prisms (Figure 3). (e) Total-gradient amplitude produced by the equivalent layer defined on the uneven surface shown in Figure 10b. Both data are given in nT/m. (f) Difference between the total-gradient amplitudes shown in e and d. All data are calculated at a regular grid of $120 \\times 30$ points represented as black dots in Figure 10a. The black rectangles represent the horizontal projection of the simulated prisms (Figure 3)."
      ],
      "text/plain": [
       "<IPython.core.display.Markdown object>"
      ]
     },
     "metadata": {},
     "output_type": "display_data"
    }
   ],
   "source": [
    "dp(md(caption))"
   ]
  },
  {
   "cell_type": "markdown",
   "metadata": {},
   "source": [
    "### Saved files"
   ]
  },
  {
   "cell_type": "code",
   "execution_count": 27,
   "metadata": {
    "collapsed": false
   },
   "outputs": [
    {
     "name": "stdout",
     "output_type": "stream",
     "text": [
      "1  figs\\Fig10.png\n",
      "2  figs\\Fig11.png\n"
     ]
    }
   ],
   "source": [
    "with open('reports\\\\report_%s.md' % notebook_name[:st.index(notebook_name,'.')], 'w') as f:\n",
    "    f.write('# Saved files \\n')\n",
    "    f.write('\\n\\n'+inversion['metadata']+'\\n\\n')\n",
    "    f.write('*  `results\\\\inversion_%s.pickle`' % notebook_name[:st.index(notebook_name,'.')])\n",
    "    now = datetime.datetime.utcnow().strftime('%d %B %Y %H:%M:%S UTC')\n",
    "    header = '\\nGenerated by {name} on {date}'.format(date=now, name=notebook_name)\n",
    "    f.write('\\n\\n'+header+'\\n\\n')\n",
    "    for i, sf in enumerate(saved_files):\n",
    "        print '%d  %s' % (i+1,sf)\n",
    "        f.write('*  `%s` \\n' % (sf))"
   ]
  },
  {
   "cell_type": "code",
   "execution_count": null,
   "metadata": {
    "collapsed": true
   },
   "outputs": [],
   "source": []
  }
 ],
 "metadata": {
  "anaconda-cloud": {},
  "kernelspec": {
   "display_name": "Python [default]",
   "language": "python",
   "name": "python2"
  },
  "language_info": {
   "codemirror_mode": {
    "name": "ipython",
    "version": 2
   },
   "file_extension": ".py",
   "mimetype": "text/x-python",
   "name": "python",
   "nbconvert_exporter": "python",
   "pygments_lexer": "ipython2",
   "version": "2.7.12"
  }
 },
 "nbformat": 4,
 "nbformat_minor": 0
}
