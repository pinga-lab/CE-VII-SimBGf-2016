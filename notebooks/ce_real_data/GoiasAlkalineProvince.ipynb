{
 "cells": [
  {
   "cell_type": "markdown",
   "metadata": {},
   "source": [
    "# Application to data from the Goias Alkaline Province"
   ]
  },
  {
   "cell_type": "markdown",
   "metadata": {},
   "source": [
    "----\n",
    "\n",
    "### Note\n",
    "This is an [IPython notebook](http://ipython.org/notebook.html), a document that incorporates text, results, figures, and the [Python](http://www.python.org/) source code to produce them. If you are viewing this from the URL http://nbviewer.ipython.org/, the document will be static (not executable). To run the code, you will need to download the notebook and install the software required. See the instructions at https://github.com/pinga-lab/Total-magnetization-of-spherical-bodies.\n",
    "\n",
    "These numerical tests use the open-source Python toolkit for geophysical modeling and inversion [Fatiando a Terra](http://fatiando.org/).\n",
    "\n",
    "----"
   ]
  },
  {
   "cell_type": "markdown",
   "metadata": {},
   "source": [
    "## Setup\n",
    "\n",
    "First, we'll import the required libraries and define some functions needed for error propagation."
   ]
  },
  {
   "cell_type": "code",
   "execution_count": null,
   "metadata": {
    "collapsed": false
   },
   "outputs": [],
   "source": [
    "%matplotlib inline"
   ]
  },
  {
   "cell_type": "code",
   "execution_count": null,
   "metadata": {
    "collapsed": false
   },
   "outputs": [],
   "source": [
    "import numpy\n",
    "import scipy\n",
    "from scipy import sparse\n",
    "import fatiando\n",
    "from fatiando import mesher, gridder, gravmag, utils\n",
    "from fatiando.gravmag import sphere, transform, euler\n",
    "from fatiando.gravmag.eqlayer import PELTotalField, PELSmoothness, ncoeffs\n",
    "from fatiando.inversion.regularization import Damping\n",
    "from fatiando.utils import vec2ang, ang2vec\n",
    "from fatiando.vis import mpl\n",
    "from fatiando.vis.mpl import colors\n",
    "from fatiando.gravmag.magdir import DipoleMagDir"
   ]
  },
  {
   "cell_type": "code",
   "execution_count": null,
   "metadata": {
    "collapsed": false
   },
   "outputs": [],
   "source": [
    "print('Using Fatiando a Terra version {}'.format(fatiando.__version__))"
   ]
  },
  {
   "cell_type": "code",
   "execution_count": null,
   "metadata": {
    "collapsed": false
   },
   "outputs": [],
   "source": [
    "mpl.rcParams['font.size'] = 14"
   ]
  },
  {
   "cell_type": "code",
   "execution_count": null,
   "metadata": {
    "collapsed": false
   },
   "outputs": [],
   "source": [
    "def uncertainty_L1(sigmad, solver):\n",
    "    '''\n",
    "    Calculate the uncertainty of the estimated\n",
    "    intensities, inclinations and declinations\n",
    "    obtained via L1 norm\n",
    "    \n",
    "    Parameters:\n",
    "    \n",
    "    * sigmad: float\n",
    "        The uncertainty of the observed total field anomaly\n",
    "        at all points.\n",
    "    * solver: class:`fatiando.gravmag.magdir.DipoleMagDir`\n",
    "        This class estimates the Cartesian components of the \n",
    "        magnetization vector of homogeneous dipolar bodies \n",
    "        with known center.\n",
    "\n",
    "    Returns:\n",
    "    \n",
    "    * dh: list of arrays\n",
    "        The uncertainties propagated from the observed data \n",
    "        to the estimated intensities, inclinations and \n",
    "        declinations of the magnetization vector of each \n",
    "        dipole.\n",
    "    '''\n",
    "    w = numpy.abs(solver.residuals())\n",
    "    w[w < 10**(-10)] = 10**-10\n",
    "    w = 1.0/w\n",
    "    W = scipy.sparse.diags(w, 0)\n",
    "    H = numpy.linalg.inv((solver.jacobian(p=None).T*W).dot(solver.jacobian(p=None))).dot(solver.jacobian(p=None).T)\n",
    "    H = H*W\n",
    "    dp = numpy.sqrt(numpy.diagonal((sigmad**2)*H.dot(H.T)))\n",
    "    dp = numpy.reshape(dp, (solver.ndipoles, 3))\n",
    "    dh = []\n",
    "    dhj = numpy.zeros(3)\n",
    "    pj = numpy.zeros(3)\n",
    "    i = 0\n",
    "    for pj in numpy.reshape(solver.p_, (solver.ndipoles, 3)):\n",
    "        aux0 = pj[0]**2 + pj[1]**2\n",
    "        aux1 = numpy.sqrt(aux0)\n",
    "        aux2 = 1.0/aux0\n",
    "        aux3 = 1.0/aux1\n",
    "        aux4 = 1.0/solver.estimate_[i][0]\n",
    "        dQx, dQy, dQz = (pj*aux4)\n",
    "        dIx = pj[0]*(-pj[2]*(aux4**2)*aux3)\n",
    "        dIy = pj[1]*(-pj[2]*(aux4**2)*aux3)\n",
    "        dIz = aux1*(aux4**2)\n",
    "        dDx = -pj[1]*aux2\n",
    "        dDy = pj[0]*aux2\n",
    "        dhj[0] = (dQx*dp[i][0])**2 + (dQy*dp[i][1])**2 + (dQz*dp[i][2])**2\n",
    "        dhj[1] = (dIx*dp[i][0])**2 + (dIy*dp[i][1])**2 + (dIz*dp[i][2])**2\n",
    "        dhj[2] = (dDx*dp[i][0])**2 + (dDy*dp[i][1])**2\n",
    "        dhj = numpy.sqrt(dhj)\n",
    "        dh.append(dhj)\n",
    "        i = i+1\n",
    "    return dh\n",
    "\n",
    "def uncertainty_L2(sigmad, solver):\n",
    "    '''\n",
    "    Calculate the uncertainty of the estimated\n",
    "    intensities, inclinations and declinations\n",
    "    obtained via L2 norm\n",
    "    \n",
    "    Parameters:\n",
    "    \n",
    "    * sigmad: float\n",
    "        The uncertainty of the observed total field anomaly\n",
    "        at all points.\n",
    "    * solver: class:`fatiando.gravmag.magdir.DipoleMagDir`\n",
    "        This class estimates the Cartesian components of the \n",
    "        magnetization vector of homogeneous dipolar bodies \n",
    "        with known center.\n",
    "\n",
    "    Returns:\n",
    "    \n",
    "    * dh: list of arrays\n",
    "        The uncertainties propagated from the observed data \n",
    "        to the estimated intensities, inclinations and \n",
    "        declinations of the magnetization vector of each \n",
    "        dipole.\n",
    "    '''\n",
    "    dp = numpy.sqrt(numpy.diagonal((sigmad**2)*numpy.linalg.inv(solver.jacobian(p=None).T.dot(solver.jacobian(p=None)))))\n",
    "    dp = numpy.reshape(dp, (solver.ndipoles, 3))\n",
    "    dh = []\n",
    "    dhj = numpy.zeros(3)\n",
    "    pj = numpy.zeros(3)\n",
    "    i = 0\n",
    "    for pj in numpy.reshape(solver.p_, (solver.ndipoles, 3)):\n",
    "        aux0 = pj[0]**2 + pj[1]**2\n",
    "        aux1 = numpy.sqrt(aux0)\n",
    "        aux2 = 1.0/aux0\n",
    "        aux3 = 1.0/aux1\n",
    "        aux4 = 1.0/solver.estimate_[i][0]\n",
    "        dQx, dQy, dQz = (pj*aux4)\n",
    "        dIx = pj[0]*(-pj[2]*(aux4**2)*aux3)\n",
    "        dIy = pj[1]*(-pj[2]*(aux4**2)*aux3)\n",
    "        dIz = aux1*(aux4**2)\n",
    "        dDx = -pj[1]*aux2\n",
    "        dDy = pj[0]*aux2\n",
    "        dhj[0] = (dQx*dp[i][0])**2 + (dQy*dp[i][1])**2 + (dQz*dp[i][2])**2\n",
    "        dhj[1] = (dIx*dp[i][0])**2 + (dIy*dp[i][1])**2 + (dIz*dp[i][2])**2\n",
    "        dhj[2] = (dDx*dp[i][0])**2 + (dDy*dp[i][1])**2\n",
    "        dhj = numpy.sqrt(dhj)\n",
    "        dh.append(dhj)\n",
    "        i = i+1\n",
    "    return dh"
   ]
  },
  {
   "cell_type": "code",
   "execution_count": null,
   "metadata": {
    "collapsed": false
   },
   "outputs": [],
   "source": [
    "# Geomagnetic Field according to the 11th generation of the International Geomagnetic \n",
    "# Reference Field (IGRF). The field was calculated for 2004.62, in the geodetic coordinates \n",
    "# latitude -16.17, longitude -51.20 and hight 800 m\n",
    "inc_geo, dec_geo = -19.5, -18.5\n",
    "\n",
    "# Load the digitalized data\n",
    "DATA = numpy.loadtxt(\"GoiasAlkalineProvince.txt\", skiprows=1)\n",
    "Y = DATA[:,0]\n",
    "X = DATA[:,1]\n",
    "Z = -DATA[:,2]\n",
    "TF = DATA[:,5]\n",
    "LONGITUDE = DATA[:,6]\n",
    "LATITUDE = DATA[:,7]"
   ]
  },
  {
   "cell_type": "code",
   "execution_count": null,
   "metadata": {
    "collapsed": false
   },
   "outputs": [],
   "source": [
    "AREA = [min(X), max(X), min(Y), max(Y)]\n",
    "\n",
    "DX = AREA[1] - AREA[0]\n",
    "DY = AREA[3] - AREA[2]\n",
    "\n",
    "NPTOS = 60\n",
    "\n",
    "TF_min = numpy.min(TF)\n",
    "TF_max = numpy.max(TF)\n",
    "\n",
    "SHAPE = ((int)(NPTOS*(DX/DY)),NPTOS)\n",
    "\n",
    "outcrops = [[-51.2527,-16.1868], \n",
    "            [-51.2578,-16.1936], \n",
    "            [-51.2837,-16.1847],\n",
    "            [-51.4052,-16.0597],\n",
    "            [-51.2619,-16.1025],\n",
    "            [-51.2420,-16.0667],\n",
    "            [-51.2523,-16.0466],\n",
    "            [-51.2920,-16.0240]]\n",
    "cities = [[-51.2552,-16.2328],\n",
    "          [-51.3960,-16.0034]]\n",
    "anomaly = [[-51.2034,-16.1668]]\n",
    "\n",
    "Z_mean = numpy.mean(Z)\n",
    "print Z_mean"
   ]
  },
  {
   "cell_type": "code",
   "execution_count": null,
   "metadata": {
    "collapsed": false
   },
   "outputs": [],
   "source": [
    "# Plot the observed data in longitude and latitude\n",
    "\n",
    "mean_LONGITUDE = numpy.mean(LONGITUDE)\n",
    "mean_LATITUDE = numpy.mean(LATITUDE)\n",
    "title = 'Mean Long. = %.2f (degree)   Mean Lat. = %.2f (degree)' % (mean_LONGITUDE, \n",
    "                                                                    mean_LATITUDE)\n",
    "mpl.close('all')\n",
    "mpl.figure(figsize=(14, 14), tight_layout = True)\n",
    "mpl.axis('scaled')\n",
    "mpl.title(title, fontsize = 14)\n",
    "mpl.contourf(LONGITUDE, LATITUDE, TF, SHAPE, 30, interp=True, extrapolate=True)\n",
    "mpl.colorbar(shrink = 0.5)\n",
    "mpl.plot(LONGITUDE, LATITUDE, '.k', markersize = 1)\n",
    "mpl.points(outcrops, style='ok', size=10)\n",
    "mpl.points(cities, style='or', size=10)\n",
    "mpl.points(anomaly, style='oy', size=10)\n",
    "mpl.ylabel('Latitude (degree)', fontsize = 14)\n",
    "mpl.xlabel('Longitude (degree)', fontsize = 14)\n",
    "mpl.show()"
   ]
  },
  {
   "cell_type": "code",
   "execution_count": null,
   "metadata": {
    "collapsed": true
   },
   "outputs": [],
   "source": [
    "# Plot the observed data in longitude and latitude\n",
    "# Only the Diorama Alkaline Complex\n",
    "\n",
    "area_degree_Diorama = [-51.249994, -51.156775, -16.199155, -16.125]\n",
    "longitude_Diorama, latitude_Diorama, data = gridder.cut(LONGITUDE, LATITUDE, \n",
    "                                                        [X, Y, Z, TF], area_degree_Diorama)\n",
    "x_Diorama = data[0]\n",
    "y_Diorama = data[1]\n",
    "z_Diorama = data[2]\n",
    "tf_Diorama = data[3]\n",
    "mean_longitude = numpy.mean(longitude_Diorama)\n",
    "mean_latitude = numpy.mean(latitude_Diorama)\n",
    "title = 'Mean Long. = %.2f (degree)   Mean Lat. = %.2f (degree)' % (mean_longitude, \n",
    "                                                                    mean_latitude)\n",
    "\n",
    "dx = area_degree_Diorama[1] - area_degree_Diorama[0]\n",
    "dy = area_degree_Diorama[3] - area_degree_Diorama[2]\n",
    "nptos = 30\n",
    "shape_Diorama = ((int)(nptos*(dx/dy)),nptos)\n",
    "\n",
    "area_Diorama = [min(x_Diorama), max(x_Diorama), min(y_Diorama), max(y_Diorama)]"
   ]
  },
  {
   "cell_type": "raw",
   "metadata": {
    "collapsed": false
   },
   "source": [
    "mpl.close('all')\n",
    "mpl.figure(figsize=(8, 8), tight_layout = True)\n",
    "mpl.axis('scaled')\n",
    "mpl.title(title, fontsize = 14)\n",
    "mpl.contourf(longitude_Diorama, latitude_Diorama, tf_Diorama, shape_Diorama, 30, \n",
    "             interp=True, extrapolate=True)\n",
    "mpl.plot(longitude_Diorama, latitude_Diorama, '.k', markersize = 1)\n",
    "mpl.ylabel('Latitude (degree)', fontsize = 14)\n",
    "mpl.xlabel('Longitude (degree)', fontsize = 14)\n",
    "mpl.show()"
   ]
  },
  {
   "cell_type": "code",
   "execution_count": null,
   "metadata": {
    "collapsed": false
   },
   "outputs": [],
   "source": [
    "# Plot the observed data in UTM\n",
    "\n",
    "mean_y = numpy.mean(y_Diorama)*0.001\n",
    "mean_x = numpy.mean(x_Diorama)*0.001\n",
    "title = 'Mean y = %.2f (km)   Mean x = %.2f (km)' % (mean_y, mean_x)\n",
    "mpl.close('all')\n",
    "mpl.figure(figsize=(8, 8), tight_layout = True)\n",
    "mpl.axis('scaled')\n",
    "#mpl.title(title, fontsize = 14)\n",
    "mpl.contourf(y_Diorama, x_Diorama, tf_Diorama, shape_Diorama, 15, \n",
    "             interp=True, extrapolate=True)\n",
    "mpl.colorbar(shrink = 0.5)\n",
    "mpl.plot(y_Diorama, x_Diorama, '.k', markersize = 1)\n",
    "mpl.ylabel('Horizontal coordinate x (km)', fontsize = 14)\n",
    "mpl.xlabel('Horizontal coordinate y (km)', fontsize = 14)\n",
    "mpl.m2km()\n",
    "#mpl.savefig('TFA_Diorama.pdf', frameon=False, bbox_inches='tight')\n",
    "mpl.savefig('TFA_Diorama.png', frameon=False, bbox_inches='tight')\n",
    "mpl.show()"
   ]
  },
  {
   "cell_type": "code",
   "execution_count": null,
   "metadata": {
    "collapsed": false
   },
   "outputs": [],
   "source": [
    "# Set the parameters of a Polynomial Equivalent Layer\n",
    "N = len(x_Diorama)\n",
    "Lx = numpy.max(x_Diorama) - numpy.min(x_Diorama)\n",
    "Ly = numpy.max(y_Diorama) - numpy.min(y_Diorama)\n",
    "Ls = 300.0\n",
    "Qx = (int)(numpy.ceil((Lx/Ls)))\n",
    "Qy = (int)(numpy.ceil((Ly/Ls)))\n",
    "Q = Qx*Qy\n",
    "m = (int)(numpy.ceil(numpy.sqrt(N/Q)))\n",
    "z0 = max(z_Diorama) + 300.0\n",
    "layer_Diorama = mesher.PointGrid(area_Diorama, z0, (Qy*m, Qx*m))\n",
    "windows = (Qy, Qx)\n",
    "alpha = 1\n",
    "sdec = dec_geo\n",
    "sinc = inc_geo\n",
    "\n",
    "# The equivalent sources have induced magnetization\n",
    "pel_Diorama = PELTotalField(x_Diorama, y_Diorama, z_Diorama, tf_Diorama, \n",
    "                            inc_geo, dec_geo, layer_Diorama, windows, alpha)\n",
    "Tik1_Diorama = PELSmoothness(layer_Diorama, windows, alpha)\n",
    "Tik0_Diorama = Damping(Q*ncoeffs(alpha))"
   ]
  },
  {
   "cell_type": "code",
   "execution_count": null,
   "metadata": {
    "collapsed": false
   },
   "outputs": [],
   "source": [
    "fg = numpy.trace(pel_Diorama.hessian(p=None))\n",
    "fr = numpy.trace(Tik1_Diorama.hessian(p=None))\n",
    "\n",
    "print 'fg = %.5e' % fg\n",
    "print 'fr = %.5e' % fr"
   ]
  },
  {
   "cell_type": "code",
   "execution_count": null,
   "metadata": {
    "collapsed": false
   },
   "outputs": [],
   "source": [
    "solverpel_Diorama = (pel_Diorama + \\\n",
    "                     ((10**-1)*(fg/fr))*Tik1_Diorama + \\\n",
    "                     ((10**-10)*(fg/pel_Diorama.nparams))*Tik0_Diorama).fit()\n",
    "layer_Diorama.addprop('magnetization', solverpel_Diorama.estimate_)"
   ]
  },
  {
   "cell_type": "code",
   "execution_count": null,
   "metadata": {
    "collapsed": false
   },
   "outputs": [],
   "source": [
    "# Plot the PEL fit\n",
    "mpl.close('all')\n",
    "mpl.figure(figsize=(8, 12), tight_layout = True)\n",
    "mpl.subplot(2, 1, 1)\n",
    "mpl.axis('scaled')\n",
    "nlevels = mpl.contour(y_Diorama, x_Diorama, tf_Diorama, shape_Diorama, 15, interp=True, color='r', \n",
    "                      label='Observed', clabel=True, style='solid', linewidth=2.0)\n",
    "mpl.contour(y_Diorama, x_Diorama, solverpel_Diorama[0].predicted(), shape_Diorama, nlevels, interp=True,\n",
    "            color='b', label='Predicted', clabel=True, style='dashed', linewidth=2.0)\n",
    "mpl.legend(loc='lower right', shadow=True, prop={'size':13})\n",
    "mpl.ylabel('Horizontal coordinate x (km)', fontsize = 14)\n",
    "mpl.xlabel('Horizontal coordinate y (km)', fontsize = 14)\n",
    "mpl.m2km()\n",
    "mpl.subplot(2, 1, 2)\n",
    "residuals_mean = numpy.mean(solverpel_Diorama[0].residuals())\n",
    "residuals_std = numpy.std(solverpel_Diorama[0].residuals())\n",
    "s = (solverpel_Diorama[0].residuals() - residuals_mean)/residuals_std\n",
    "smin = min(s)\n",
    "smax = max(s)\n",
    "nbins = ((smax-smin)/0.4)\n",
    "mpl.hist(s, bins=nbins, range=None, normed=True, weights=None,\n",
    "         cumulative=False, bottom=None, histtype='bar', align='mid',\n",
    "         orientation='vertical', rwidth=None, log=False,\n",
    "         color=None, label=None)\n",
    "mpl.xlim(-4, 4)\n",
    "mpl.title(\"mean = %.3f    std = %.3f\" % (residuals_mean, residuals_std), fontsize = 14)\n",
    "mpl.ylabel(\"P(z)\", fontsize = 14)\n",
    "mpl.xlabel(\"z\", fontsize = 14)\n",
    "mpl.show()"
   ]
  },
  {
   "cell_type": "code",
   "execution_count": null,
   "metadata": {
    "collapsed": false
   },
   "outputs": [],
   "source": [
    "# Interpolate and continue the data upwards\n",
    "\n",
    "xi = layer_Diorama.x\n",
    "yi = layer_Diorama.y\n",
    "zi = numpy.ones_like(xi)*(-1000.0)\n",
    "\n",
    "tf_Diorama_transformed = gravmag.sphere.tf(xi, yi, zi, layer_Diorama, inc_geo, dec_geo)\n",
    "\n",
    "#numpy.savetxt('GoiasAlkalineProvince_continued.txt', numpy.vstack((yi, xi, zi, \n",
    "#                                                         tf_Diorama_transformed)).T)"
   ]
  },
  {
   "cell_type": "code",
   "execution_count": null,
   "metadata": {
    "collapsed": false
   },
   "outputs": [],
   "source": [
    "# Plot the observed data and the transformed data\n",
    "mpl.close('all')\n",
    "mpl.figure(figsize=(8, 10), tight_layout = True)\n",
    "mpl.subplot(2, 1, 1)\n",
    "mpl.axis('scaled')\n",
    "#mpl.title('Observed Total Field anomaly (nT)')\n",
    "mpl.contourf(y_Diorama, x_Diorama, tf_Diorama, shape_Diorama, 15, \n",
    "             interp=True, extrapolate=True)\n",
    "mpl.colorbar()\n",
    "mpl.ylabel('Horizontal coordinate x (km)', fontsize = 14)\n",
    "mpl.xlabel('Horizontal coordinate y (km)', fontsize = 14)\n",
    "mpl.m2km()\n",
    "mpl.subplot(2, 1, 2)\n",
    "mpl.axis('scaled')\n",
    "#mpl.title('Transformed Total Field anomaly (nT)')\n",
    "mpl.contourf(yi, xi, tf_Diorama_transformed, shape_Diorama, 15, \n",
    "             interp=True, extrapolate=True)\n",
    "mpl.colorbar()\n",
    "mpl.ylabel('Horizontal coordinate x (km)', fontsize = 14)\n",
    "mpl.xlabel('Horizontal coordinate y (km)', fontsize = 14)\n",
    "mpl.m2km()\n",
    "\n",
    "#mpl.savefig('TFA_Diorama_Upward.pdf', frameon=False, bbox_inches='tight')\n",
    "mpl.savefig('TFA_Diorama_Upward.png', frameon=False, bbox_inches='tight')\n",
    "\n",
    "mpl.show()"
   ]
  },
  {
   "cell_type": "code",
   "execution_count": null,
   "metadata": {
    "collapsed": false
   },
   "outputs": [],
   "source": [
    "# Pick the point for Euler Expanded Window scheme\n",
    "#mpl.figure()\n",
    "#mpl.title('Pick the centers of the expanding windows')\n",
    "#mpl.axis('scaled')\n",
    "#mpl.contourf(yi, xi, tf_transformed, shape, 15, interp=True)\n",
    "#mpl.colorbar()\n",
    "#centerseuler = mpl.pick_points(area, mpl.gca(), xy2ne=True)\n",
    "# Estimate the centers with Euler deconvolution\n",
    "#xderiv = transform.derivx(xi, yi, tf_transformed, layer.shape)\n",
    "#yderiv = transform.derivy(xi, yi, tf_transformed, layer.shape)\n",
    "#zderiv = transform.derivz(xi, yi, tf_transformed, layer.shape)\n",
    "    \n",
    "#euler = Classic(xi, yi, zi, tf_transformed, xderiv, yderiv, zderiv, 3)\n",
    "# definir o tamanho máximo e mínimo das janelas\n",
    "#sizes = numpy.linspace(1000, 8000, 20)\n",
    "#results = [euler.ExpandingWindow(euler, c, sizes).fit() for c in centerseuler]\n",
    "#centersdipole = [r.estimate_ for r in results]"
   ]
  },
  {
   "cell_type": "code",
   "execution_count": null,
   "metadata": {
    "collapsed": false
   },
   "outputs": [],
   "source": [
    "#print 'X Y Z'\n",
    "#print centersdipole[0][0], centersdipole[0][1], centersdipole[0][2]"
   ]
  },
  {
   "cell_type": "code",
   "execution_count": null,
   "metadata": {
    "collapsed": false
   },
   "outputs": [],
   "source": [
    "centersdipole = [[8212649.97369, 478365.278885, 663.263362513]]"
   ]
  },
  {
   "cell_type": "code",
   "execution_count": null,
   "metadata": {
    "collapsed": false
   },
   "outputs": [],
   "source": [
    "estimates = []"
   ]
  },
  {
   "cell_type": "code",
   "execution_count": null,
   "metadata": {
    "collapsed": false
   },
   "outputs": [],
   "source": [
    "# Estimate the magnetization vectors with the L2-norm\n",
    "solverdipole = DipoleMagDir(xi, yi, zi, tf_Diorama_transformed, \n",
    "                            inc_geo, dec_geo, centersdipole).fit()\n",
    "\n",
    "# Calculate the uncertainties\n",
    "dh_L2 = uncertainty_L2(5.0, solverdipole)\n",
    "\n",
    "# Print the estimated parameters\n",
    "print 'Estimated L2'\n",
    "for e in solverdipole.estimate_:\n",
    "    print '%12.5f %12.5f' % (e[1], e[2])\n",
    "    estimates.append(e)\n",
    "print 'Uncertainties L2'\n",
    "for dhj in dh_L2:\n",
    "    print '%12.5f %12.5f' % (dhj[1], dhj[2])"
   ]
  },
  {
   "cell_type": "raw",
   "metadata": {
    "collapsed": false
   },
   "source": [
    "# Plot the fit and the normalized histogram of the residuals\n",
    "mpl.close(\"all\")\n",
    "mpl.figure(figsize=(8, 12), tight_layout = True)\n",
    "mpl.subplot(2, 1, 1)\n",
    "#mpl.title(\"Total Field Anomaly (nT)\", fontsize = 14)\n",
    "mpl.axis('scaled')\n",
    "nlevels = mpl.contour(yi, xi, tf_Diorama_transformed, (50,50), 15, interp=True, color='r', \n",
    "                      label='Upward Continued', clabel=True, style='solid', linewidth=2.0)\n",
    "mpl.contour(yi, xi, solverdipole.predicted(), (50,50), nlevels, interp=True, color='b', \n",
    "            label='Predicted', clabel=True, style='dashed', linewidth=2.0)\n",
    "mpl.legend(loc='upper left', shadow=True, prop={'size':13})\n",
    "mpl.ylabel('Horizontal coordinate x (km)', fontsize = 14)\n",
    "mpl.xlabel('Horizontal coordinate y (km)', fontsize = 14)\n",
    "mpl.m2km()\n",
    "mpl.subplot(2, 1, 2)\n",
    "residuals_mean = numpy.mean(solverdipole.residuals())\n",
    "residuals_std = numpy.std(solverdipole.residuals())\n",
    "s = (solverdipole.residuals() - residuals_mean)/residuals_std\n",
    "mpl.hist(s, bins=51, range=None, normed=True, weights=None,\n",
    "       cumulative=False, bottom=None, histtype='bar', align='mid',\n",
    "       orientation='vertical', rwidth=None, log=False,\n",
    "       color=None, label=None)\n",
    "mpl.xlim(-4, 4)\n",
    "mpl.title(\"mean = %.3f    std = %.3f\" % (residuals_mean, residuals_std), fontsize = 14)\n",
    "mpl.ylabel(\"P(z)\", fontsize = 14)\n",
    "mpl.xlabel(\"z\", fontsize = 14)\n",
    "mpl.show()"
   ]
  },
  {
   "cell_type": "code",
   "execution_count": null,
   "metadata": {
    "collapsed": false
   },
   "outputs": [],
   "source": [
    "# Fit the data with a Polynomial Equivalent Layer\n",
    "# and perform a pole reduction\n",
    "# The incs and decs were obtained with the L2 approach\n",
    "\n",
    "layer_Diorama_poleL2 = mesher.PointGrid(area_Diorama, z0, (Qy*m, Qx*m))\n",
    "\n",
    "sinc_L2 = solverdipole.estimate_[0][1]\n",
    "sdec_L2 = solverdipole.estimate_[0][2]\n",
    "\n",
    "pel_Diorama_pole = PELTotalField(x_Diorama, y_Diorama, z_Diorama, tf_Diorama, \n",
    "                                 inc_geo, dec_geo, layer_Diorama_poleL2, \n",
    "                                 windows, alpha, sinc_L2, sdec_L2)"
   ]
  },
  {
   "cell_type": "code",
   "execution_count": null,
   "metadata": {
    "collapsed": false
   },
   "outputs": [],
   "source": [
    "#fg_pole = numpy.trace(pel_Diorama_pole.hessian(p=None))\n",
    "#fg_pole"
   ]
  },
  {
   "cell_type": "code",
   "execution_count": null,
   "metadata": {
    "collapsed": true
   },
   "outputs": [],
   "source": [
    "fg_pole = 10432425403.414921"
   ]
  },
  {
   "cell_type": "code",
   "execution_count": null,
   "metadata": {
    "collapsed": false
   },
   "outputs": [],
   "source": [
    "solverpel_Diorama_poleL2 = (pel_Diorama_pole + \\\n",
    "                            ((10**-1)*(fg_pole/fr))*Tik1_Diorama + \\\n",
    "                            ((10**-10)*(fg_pole/pel_Diorama_pole.nparams))*Tik0_Diorama).fit()\n",
    "layer_Diorama_poleL2.addprop('magnetization', \n",
    "                             utils.ang2vec(solverpel_Diorama_poleL2.estimate_, -90.0, 0.0))"
   ]
  },
  {
   "cell_type": "code",
   "execution_count": null,
   "metadata": {
    "collapsed": false
   },
   "outputs": [],
   "source": [
    "# Calculate the reduced data at 1000 m above\n",
    "tf_Diorama_RTPL2 = gravmag.sphere.tf(x_Diorama, y_Diorama, z_Diorama - 1000.0, \n",
    "                                     layer_Diorama_poleL2, -90., 0.)"
   ]
  },
  {
   "cell_type": "code",
   "execution_count": null,
   "metadata": {
    "collapsed": false
   },
   "outputs": [],
   "source": [
    "# Estimate the magnetization vectors with the L1-norm\n",
    "# by using the L2-norm as input\n",
    "for i in range(30):\n",
    "    w = numpy.abs(solverdipole.residuals())\n",
    "    w[w < 10**(-10)] = 10**-10\n",
    "    w = 1/w\n",
    "    solverdipole.set_weights(w)\n",
    "    solverdipole.fit()\n",
    "\n",
    "# Calculate the uncertainties\n",
    "dh_L1 = uncertainty_L1(5.0, solverdipole)\n",
    "    \n",
    "print 'Estimated L1'\n",
    "for e in solverdipole.estimate_:\n",
    "    print '%12.5f %12.5f' % (e[1], e[2])\n",
    "    estimates.append(e)\n",
    "print 'Uncertainties L1'\n",
    "for dhj in dh_L1:\n",
    "    print '%12.5f %12.5f' % (dhj[1], dhj[2])"
   ]
  },
  {
   "cell_type": "code",
   "execution_count": null,
   "metadata": {
    "collapsed": false
   },
   "outputs": [],
   "source": [
    "hg = numpy.sqrt((numpy.cos(numpy.deg2rad(inc_geo))*numpy.cos(numpy.deg2rad(dec_geo)))**2 + \\\n",
    "                (numpy.cos(numpy.deg2rad(inc_geo))*numpy.sin(numpy.deg2rad(dec_geo)))**2)\n",
    "\n",
    "mpl.figure(figsize=(8,8))\n",
    "ax = mpl.subplot(111, polar=True)\n",
    "ax.set_theta_direction(-1)\n",
    "ax.set_theta_zero_location('N')\n",
    "ax.set_rgrids([0.2,0.4,0.6,0.8], angle=90.)\n",
    "# direction of the Geomagnetic field\n",
    "if inc_geo >= 0.0:\n",
    "    mpl.plot(numpy.deg2rad(dec_geo), hg, marker='^', ms=14, \n",
    "             mec='k', mew=3, mfc='k', fillstyle='full')\n",
    "else:\n",
    "    mpl.plot(numpy.deg2rad(dec_geo), hg, marker='^', ms=14, \n",
    "             mec='k', mew=3, fillstyle='none')\n",
    "# L2-norm estimates\n",
    "he = numpy.sqrt((numpy.cos(numpy.deg2rad(estimates[0][1]))*numpy.cos(numpy.deg2rad(estimates[0][2])))**2 + \\\n",
    "                (numpy.cos(numpy.deg2rad(estimates[0][1]))*numpy.sin(numpy.deg2rad(estimates[0][2])))**2)\n",
    "if estimates[0][1] >= 0.0:\n",
    "    mpl.plot(numpy.deg2rad(estimates[0][2]), he, marker='s', ms=8, \n",
    "             mec='b', mew=3, mfc='b', fillstyle='full')\n",
    "else:\n",
    "    mpl.plot(numpy.deg2rad(estimates[0][2]), he, marker='s', ms=8, \n",
    "             mec='b', mew=3, fillstyle='none')\n",
    "# L1-norm estimates\n",
    "he = numpy.sqrt((numpy.cos(numpy.deg2rad(estimates[1][1]))*numpy.cos(numpy.deg2rad(estimates[1][2])))**2 + \\\n",
    "                (numpy.cos(numpy.deg2rad(estimates[1][1]))*numpy.sin(numpy.deg2rad(estimates[1][2])))**2)\n",
    "if estimates[1][1] >= 0.0:\n",
    "    mpl.plot(numpy.deg2rad(estimates[1][2]), he, marker='D', ms=8, \n",
    "             mec='r', mew=3, mfc='r', fillstyle='full')\n",
    "else:\n",
    "    mpl.plot(numpy.deg2rad(estimates[1][2]), he, marker='D', ms=8, \n",
    "             mec='r', mew=3, fillstyle='none')#c.set_alpha(1.0)\n",
    "mpl.xticks(fontsize=20) # on the cicle\n",
    "mpl.yticks(fontsize=14) # along the radial direction\n",
    "mpl.ylim(0.0, 1.0)\n",
    "mpl.savefig('polar_plot.png', dpi=600)\n",
    "mpl.show()"
   ]
  },
  {
   "cell_type": "code",
   "execution_count": null,
   "metadata": {
    "collapsed": false
   },
   "outputs": [],
   "source": [
    "# Fit the data with a Polynomial Equivalent Layer\n",
    "# and perform a pole reduction\n",
    "# The incs and decs were obtained with the L1 approach\n",
    "\n",
    "layer_Diorama_poleL1 = mesher.PointGrid(area_Diorama, z0, (Qy*m, Qx*m))\n",
    "\n",
    "sinc_L1 = solverdipole.estimate_[0][1]\n",
    "sdec_L1 = solverdipole.estimate_[0][2]\n",
    "\n",
    "pel_Diorama_pole = PELTotalField(x_Diorama, y_Diorama, z_Diorama, tf_Diorama, \n",
    "                                 inc_geo, dec_geo, layer_Diorama_poleL1, \n",
    "                                 windows, alpha, sinc_L1, sdec_L1)"
   ]
  },
  {
   "cell_type": "code",
   "execution_count": null,
   "metadata": {
    "collapsed": false
   },
   "outputs": [],
   "source": [
    "#fg_pole = numpy.trace(pel_Diorama_pole.hessian(p=None))\n",
    "\n",
    "#fg_pole"
   ]
  },
  {
   "cell_type": "code",
   "execution_count": null,
   "metadata": {
    "collapsed": true
   },
   "outputs": [],
   "source": [
    "fg_pole = 10505854841.380661"
   ]
  },
  {
   "cell_type": "code",
   "execution_count": null,
   "metadata": {
    "collapsed": false
   },
   "outputs": [],
   "source": [
    "solverpel_Diorama_poleL1 = (pel_Diorama_pole + \\\n",
    "                            ((10**-1)*(fg_pole/fr))*Tik1_Diorama + \\\n",
    "                            ((10**-10)*(fg_pole/pel_Diorama_pole.nparams))*Tik0_Diorama).fit()\n",
    "layer_Diorama_poleL1.addprop('magnetization', \n",
    "                             utils.ang2vec(solverpel_Diorama_poleL1.estimate_, -90.0, 0.0))"
   ]
  },
  {
   "cell_type": "code",
   "execution_count": null,
   "metadata": {
    "collapsed": false
   },
   "outputs": [],
   "source": [
    "# Calculate the reduced data at 1000 m above\n",
    "tf_Diorama_RTPL1 = gravmag.sphere.tf(x_Diorama, y_Diorama, z_Diorama - 1000.0, layer_Diorama_poleL1, -90., 0.)"
   ]
  },
  {
   "cell_type": "code",
   "execution_count": null,
   "metadata": {
    "collapsed": false
   },
   "outputs": [],
   "source": [
    "# Plot the reduced data\n",
    "tol = 0.05\n",
    "#smin = 0.001*numpy.min(x_Diorama)\n",
    "#smax = 0.001*numpy.max(x_Diorama)\n",
    "smin = numpy.min(x_Diorama)\n",
    "smax = numpy.max(x_Diorama)\n",
    "smin = smin - tol*(smax - smin)\n",
    "smax = smax + tol*(smax - smin)\n",
    "#tmin = 0.001*numpy.min(y_Diorama)\n",
    "#tmax = 0.001*numpy.max(y_Diorama)\n",
    "tmin = numpy.min(y_Diorama)\n",
    "tmax = numpy.max(y_Diorama)\n",
    "tmin = tmin - tol*(tmax - tmin)\n",
    "tmax = tmax + tol*(tmax - tmin)\n",
    "\n",
    "mpl.close('all')\n",
    "mpl.figure(figsize=(8, 10), tight_layout = True)\n",
    "#mpl.figure(figsize=(8, 10))\n",
    "\n",
    "mpl.subplot(2, 1, 1)\n",
    "mpl.axis('scaled')\n",
    "#mpl.title('Reduced-to-the-pole anomaly (nT) - L2')\n",
    "#mpl.contourf(0.001*y_Diorama, 0.001*x_Diorama, tf_Diorama_RTPL2, shape_Diorama, 30, interp=True, extrapolate=True)\n",
    "mpl.contourf(y_Diorama, x_Diorama, tf_Diorama_RTPL2, shape_Diorama, 30, interp=True, extrapolate=True)\n",
    "mpl.colorbar()\n",
    "mpl.ylabel('Horizontal coordinate x (km)', fontsize = 14)\n",
    "mpl.xlabel('Horizontal coordinate y (km)', fontsize = 14)\n",
    "mpl.m2km()\n",
    "#mpl.text(smin-tol*(smax-smin), tmin-tol*(tmax-tmin), '(a)', fontsize=16)\n",
    "\n",
    "mpl.subplot(2, 1, 2)\n",
    "mpl.axis('scaled')\n",
    "#mpl.title('Reduced-to-the-pole anomaly (nT) - L1')\n",
    "#mpl.contourf(0.001*y_Diorama, 0.001*x_Diorama, tf_Diorama_RTPL1, shape_Diorama, 30, interp=True, extrapolate=True)\n",
    "mpl.contourf(y_Diorama, x_Diorama, tf_Diorama_RTPL1, shape_Diorama, 30, interp=True, extrapolate=True)\n",
    "mpl.colorbar()\n",
    "mpl.ylabel('Horizontal coordinate x (km)', fontsize = 14)\n",
    "mpl.xlabel('Horizontal coordinate y (km)', fontsize = 14)\n",
    "mpl.m2km()\n",
    "#mpl.text(smin-tol*(smax-smin), tmin-tol*(tmax-tmin), '(b)', fontsize=16)\n",
    "\n",
    "#mpl.savefig('TFA_Diorama_RTP.pdf', frameon=False, bbox_inches='tight')\n",
    "mpl.savefig('TFA_Diorama_RTP.png', frameon=False, bbox_inches='tight')\n",
    "\n",
    "mpl.show()"
   ]
  },
  {
   "cell_type": "code",
   "execution_count": null,
   "metadata": {
    "collapsed": false
   },
   "outputs": [],
   "source": [
    "# Plot the observed data in longitude and latitude\n",
    "# Montes Claros de Goiás (MCG)\n",
    "\n",
    "area_degree_MCG = (-51.45, -51.30, -16.10, -16.00)\n",
    "longitude_MCG, latitude_MCG, data = gridder.cut(LONGITUDE, LATITUDE, [X, Y, Z, TF], area_degree_MCG)\n",
    "x_MCG = data[0]\n",
    "y_MCG = data[1]\n",
    "z_MCG = data[2]\n",
    "tf_MCG = data[3]\n",
    "mean_longitude = numpy.mean(longitude_MCG)\n",
    "mean_latitude = numpy.mean(latitude_MCG)\n",
    "title = 'Mean Long. = %.2f (degree)   Mean Lat. = %.2f (degree)' % (mean_longitude, mean_latitude)\n",
    "\n",
    "dx = area_degree_MCG[1] - area_degree_MCG[0]\n",
    "dy = area_degree_MCG[3] - area_degree_MCG[2]\n",
    "nptos = 40\n",
    "shape_MCG = ((int)(nptos*(dx/dy)),nptos)\n",
    "\n",
    "area_MCG = [min(x_MCG), max(x_MCG), min(y_MCG), max(y_MCG)]\n",
    "\n",
    "mpl.close('all')\n",
    "mpl.figure(figsize=(15, 15))\n",
    "mpl.axis('scaled')\n",
    "mpl.title(title)\n",
    "mpl.contourf(longitude_MCG, latitude_MCG, tf_MCG, shape_MCG, 30, interp=True, extrapolate=True)\n",
    "mpl.plot(longitude_MCG, latitude_MCG, '.k', markersize = 1)\n",
    "mpl.colorbar(shrink = 0.5)\n",
    "mpl.points(outcrops, style='ok', size=10)\n",
    "mpl.ylabel('Latitude (degree)', fontsize = 10)\n",
    "mpl.xlabel('Longitude (degree)', fontsize = 10)\n",
    "mpl.show()"
   ]
  },
  {
   "cell_type": "code",
   "execution_count": null,
   "metadata": {
    "collapsed": false
   },
   "outputs": [],
   "source": [
    "# Plot the observed data in UTM\n",
    "\n",
    "mpl.close('all')\n",
    "mpl.figure(figsize=(8, 8), tight_layout = True)\n",
    "mpl.axis('scaled')\n",
    "mpl.contourf(y_MCG, x_MCG, tf_MCG, shape_MCG, 30, interp=True, extrapolate=True)\n",
    "mpl.colorbar(shrink = 0.5)\n",
    "mpl.plot(y_MCG, x_MCG, '.k', markersize = 1)\n",
    "mpl.ylabel('Horizontal coordinate x (km)', fontsize = 14)\n",
    "mpl.xlabel('Horizontal coordinate y (km)', fontsize = 14)\n",
    "mpl.m2km()\n",
    "#mpl.savefig('TFA_MontesClarosGoias.pdf', frameon=False, bbox_inches='tight')\n",
    "mpl.savefig('TFA_MontesClarosGoias.png', frameon=False, bbox_inches='tight')\n",
    "mpl.show()"
   ]
  },
  {
   "cell_type": "code",
   "execution_count": null,
   "metadata": {
    "collapsed": false
   },
   "outputs": [],
   "source": [
    "# Set the parameters of a Polynomial Equivalent Layer\n",
    "N = len(x_MCG)\n",
    "Lx = numpy.max(x_MCG) - numpy.min(x_MCG)\n",
    "Ly = numpy.max(y_MCG) - numpy.min(y_MCG)\n",
    "Ls = 300.0\n",
    "Qx = (int)(numpy.ceil((Lx/Ls)))\n",
    "Qy = (int)(numpy.ceil((Ly/Ls)))\n",
    "Q = Qx*Qy\n",
    "m = (int)(numpy.ceil(numpy.sqrt(N/Q)))\n",
    "z0 = max(z_MCG) + 300.0\n",
    "windows = (Qy, Qx)\n",
    "alpha = 1"
   ]
  },
  {
   "cell_type": "code",
   "execution_count": null,
   "metadata": {
    "collapsed": false
   },
   "outputs": [],
   "source": [
    "# Construct a PEL with the magnetization direction obtained from L2 approach\n",
    "layer_MCG_poleL2 = mesher.PointGrid(area_MCG, z0, (Qy*m, Qx*m))\n",
    "pel_MCG_pole = PELTotalField(x_MCG, y_MCG, z_MCG, tf_MCG, inc_geo, dec_geo, layer_MCG_poleL2, \n",
    "                             windows, alpha, sinc_L2, sdec_L2)\n",
    "Tik1_MCG = PELSmoothness(layer_MCG_poleL2, windows, alpha)\n",
    "Tik0_MCG = Damping(Q*ncoeffs(alpha))"
   ]
  },
  {
   "cell_type": "code",
   "execution_count": null,
   "metadata": {
    "collapsed": false
   },
   "outputs": [],
   "source": [
    "fg = numpy.trace(pel_MCG_pole.hessian(p=None))\n",
    "fr = numpy.trace(Tik1_MCG.hessian(p=None))\n",
    "\n",
    "print 'fg = %.5e' % fg\n",
    "print 'fr = %.5e' % fr"
   ]
  },
  {
   "cell_type": "code",
   "execution_count": null,
   "metadata": {
    "collapsed": false
   },
   "outputs": [],
   "source": [
    "solverpel_MCG = (pel_MCG_pole + \\\n",
    "                 ((10**-1)*(fg/fr))*Tik1_MCG + \\\n",
    "                 ((10**-10)*(fg/pel_MCG_pole.nparams))*Tik0_MCG).fit()\n",
    "layer_MCG_poleL2.addprop('magnetization', \n",
    "                         utils.ang2vec(solverpel_MCG.estimate_, -90.0, 0.0))"
   ]
  },
  {
   "cell_type": "code",
   "execution_count": null,
   "metadata": {
    "collapsed": false
   },
   "outputs": [],
   "source": [
    "# Calculate the reduced data at 1000 m above\n",
    "tf_MCG_RTPL2 = gravmag.sphere.tf(x_MCG, y_MCG, z_MCG - 1000.0, layer_MCG_poleL2, -90., 0.)"
   ]
  },
  {
   "cell_type": "code",
   "execution_count": null,
   "metadata": {
    "collapsed": false
   },
   "outputs": [],
   "source": [
    "# Construct a PEL with the magnetization direction obtained from L1 approach\n",
    "layer_MCG_poleL1 = mesher.PointGrid(area_MCG, z0, (Qy*m, Qx*m))\n",
    "pel_MCG_pole = PELTotalField(x_MCG, y_MCG, z_MCG, tf_MCG, inc_geo, dec_geo, layer_MCG_poleL1, \n",
    "                             windows, alpha, sinc_L1, sdec_L1)\n",
    "#Tik1 = PELSmoothness(layer, windows, alpha)\n",
    "#Tik0 = Damping(Q*ncoeffs(alpha))"
   ]
  },
  {
   "cell_type": "code",
   "execution_count": null,
   "metadata": {
    "collapsed": false
   },
   "outputs": [],
   "source": [
    "fg = numpy.trace(pel_MCG_pole.hessian(p=None))\n",
    "fr = numpy.trace(Tik1_MCG.hessian(p=None))\n",
    "\n",
    "print 'fg = %.5e' % fg\n",
    "print 'fr = %.5e' % fr"
   ]
  },
  {
   "cell_type": "code",
   "execution_count": null,
   "metadata": {
    "collapsed": false
   },
   "outputs": [],
   "source": [
    "solverpel_MCG = (pel_MCG_pole + \\\n",
    "                 ((10**-1)*(fg/fr))*Tik1_MCG + \\\n",
    "                 ((10**-10)*(fg/pel_MCG_pole.nparams))*Tik0_MCG).fit()\n",
    "layer_MCG_poleL1.addprop('magnetization', \n",
    "                         utils.ang2vec(solverpel_MCG.estimate_, -90.0, 0.0))"
   ]
  },
  {
   "cell_type": "code",
   "execution_count": null,
   "metadata": {
    "collapsed": false
   },
   "outputs": [],
   "source": [
    "# Calculate the reduced data at 1000 m above\n",
    "tf_MCG_RTPL1 = gravmag.sphere.tf(x_MCG, y_MCG, z_MCG - 1000.0, layer_MCG_poleL1, -90., 0.)"
   ]
  },
  {
   "cell_type": "code",
   "execution_count": null,
   "metadata": {
    "collapsed": false
   },
   "outputs": [],
   "source": [
    "# Plot the reduced data\n",
    "mpl.figure(figsize=(8, 10), tight_layout = True)\n",
    "mpl.subplot(2, 1, 1)\n",
    "mpl.axis('scaled')\n",
    "#mpl.title('Reduced-to-the-pole anomaly (nT) - L2')\n",
    "mpl.contourf(y_MCG, x_MCG, tf_MCG_RTPL2, shape_MCG, 30, interp=True, extrapolate=True)\n",
    "mpl.colorbar(shrink = 0.9)\n",
    "mpl.ylabel('Horizontal coordinate x (km)', fontsize = 14)\n",
    "mpl.xlabel('Horizontal coordinate y (km)', fontsize = 14)\n",
    "mpl.m2km()\n",
    "\n",
    "mpl.subplot(2, 1, 2)\n",
    "mpl.axis('scaled')\n",
    "#mpl.title('Reduced-to-the-pole anomaly (nT) - L1')\n",
    "mpl.contourf(y_MCG, x_MCG, tf_MCG_RTPL1, shape_MCG, 30, interp=True, extrapolate=True)\n",
    "mpl.colorbar(shrink = 0.9)\n",
    "mpl.ylabel('Horizontal coordinate x (km)', fontsize = 14)\n",
    "mpl.xlabel('Horizontal coordinate y (km)', fontsize = 14)\n",
    "mpl.m2km()\n",
    "\n",
    "#mpl.savefig('TFA_MontesClarosGoias-RTP.pdf', frameon=False, bbox_inches='tight')\n",
    "mpl.savefig('TFA_MontesClarosGoias-RTP.png', frameon=False, bbox_inches='tight')\n",
    "\n",
    "mpl.show()"
   ]
  }
 ],
 "metadata": {
  "anaconda-cloud": {},
  "kernelspec": {
   "display_name": "Python [default]",
   "language": "python",
   "name": "python2"
  },
  "language_info": {
   "codemirror_mode": {
    "name": "ipython",
    "version": 2
   },
   "file_extension": ".py",
   "mimetype": "text/x-python",
   "name": "python",
   "nbconvert_exporter": "python",
   "pygments_lexer": "ipython2",
   "version": "2.7.10"
  }
 },
 "nbformat": 4,
 "nbformat_minor": 0
}
